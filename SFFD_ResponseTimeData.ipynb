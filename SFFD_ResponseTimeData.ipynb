{
 "cells": [
  {
   "cell_type": "markdown",
   "metadata": {},
   "source": [
    "# San Francisco Fire Department Battalion Response Times"
   ]
  },
  {
   "cell_type": "code",
   "execution_count": 1,
   "metadata": {},
   "outputs": [
    {
     "name": "stderr",
     "output_type": "stream",
     "text": [
      "WARNING:root:Requests made without an app_token will be subject to strict throttling limits.\n"
     ]
    }
   ],
   "source": [
    "# API query methods from the https://dev.socrata.com/foundry/data.sfgov.org/nuek-vuh3 documentation and examples\n",
    "\n",
    "# make sure to install these packages if necessary before running API query:\n",
    "# pip install pandas\n",
    "# pip install sodapy\n",
    "\n",
    "import pandas as pd\n",
    "from sodapy import Socrata\n",
    "import datetime as dt\n",
    "\n",
    "# Unauthenticated client only works with public data sets. Note 'None'\n",
    "# in place of application token, and no username or password:\n",
    "client = Socrata(\"data.sfgov.org\", None)\n",
    "\n",
    "# establish query date to extract 1 year of data from today's date\n",
    "date = dt.datetime.now() - dt.timedelta(days=365)\n",
    "year_ago = date.strftime(\"%Y-%m-%d\")\n",
    "\n",
    "# Retrieve results from the SFFD data source for all calls in the past year including call date, battalion, received time,\n",
    "# and on scene time, sorted ascending by date.\n",
    "results = client.get_all(\"nuek-vuh3\",\n",
    "                         where=f\"call_date > '{year_ago}T00:00:00.000'\",\n",
    "                         select=\"call_date, battalion, received_dttm, on_scene_dttm\",\n",
    "                         order=\"call_date ASC\")\n",
    "\n",
    "# Convert to pandas DataFrame\n",
    "results_df = pd.DataFrame.from_records(results)"
   ]
  },
  {
   "cell_type": "code",
   "execution_count": 2,
   "metadata": {},
   "outputs": [
    {
     "data": {
      "text/html": [
       "<div>\n",
       "<style scoped>\n",
       "    .dataframe tbody tr th:only-of-type {\n",
       "        vertical-align: middle;\n",
       "    }\n",
       "\n",
       "    .dataframe tbody tr th {\n",
       "        vertical-align: top;\n",
       "    }\n",
       "\n",
       "    .dataframe thead th {\n",
       "        text-align: right;\n",
       "    }\n",
       "</style>\n",
       "<table border=\"1\" class=\"dataframe\">\n",
       "  <thead>\n",
       "    <tr style=\"text-align: right;\">\n",
       "      <th></th>\n",
       "      <th>call_date</th>\n",
       "      <th>battalion</th>\n",
       "      <th>received_dttm</th>\n",
       "      <th>on_scene_dttm</th>\n",
       "    </tr>\n",
       "  </thead>\n",
       "  <tbody>\n",
       "    <tr>\n",
       "      <th>0</th>\n",
       "      <td>2020-03-13T00:00:00.000</td>\n",
       "      <td>B07</td>\n",
       "      <td>2020-03-13T16:20:26.000</td>\n",
       "      <td>2020-03-13T16:28:25.000</td>\n",
       "    </tr>\n",
       "    <tr>\n",
       "      <th>1</th>\n",
       "      <td>2020-03-13T00:00:00.000</td>\n",
       "      <td>B09</td>\n",
       "      <td>2020-03-13T00:32:53.000</td>\n",
       "      <td>2020-03-13T00:37:43.000</td>\n",
       "    </tr>\n",
       "    <tr>\n",
       "      <th>2</th>\n",
       "      <td>2020-03-13T00:00:00.000</td>\n",
       "      <td>B05</td>\n",
       "      <td>2020-03-13T17:00:20.000</td>\n",
       "      <td>2020-03-13T17:11:39.000</td>\n",
       "    </tr>\n",
       "    <tr>\n",
       "      <th>3</th>\n",
       "      <td>2020-03-13T00:00:00.000</td>\n",
       "      <td>B10</td>\n",
       "      <td>2020-03-13T10:11:24.000</td>\n",
       "      <td>NaN</td>\n",
       "    </tr>\n",
       "    <tr>\n",
       "      <th>4</th>\n",
       "      <td>2020-03-13T00:00:00.000</td>\n",
       "      <td>B03</td>\n",
       "      <td>2020-03-13T15:12:14.000</td>\n",
       "      <td>2020-03-13T15:18:02.000</td>\n",
       "    </tr>\n",
       "  </tbody>\n",
       "</table>\n",
       "</div>"
      ],
      "text/plain": [
       "                 call_date battalion            received_dttm  \\\n",
       "0  2020-03-13T00:00:00.000       B07  2020-03-13T16:20:26.000   \n",
       "1  2020-03-13T00:00:00.000       B09  2020-03-13T00:32:53.000   \n",
       "2  2020-03-13T00:00:00.000       B05  2020-03-13T17:00:20.000   \n",
       "3  2020-03-13T00:00:00.000       B10  2020-03-13T10:11:24.000   \n",
       "4  2020-03-13T00:00:00.000       B03  2020-03-13T15:12:14.000   \n",
       "\n",
       "             on_scene_dttm  \n",
       "0  2020-03-13T16:28:25.000  \n",
       "1  2020-03-13T00:37:43.000  \n",
       "2  2020-03-13T17:11:39.000  \n",
       "3                      NaN  \n",
       "4  2020-03-13T15:18:02.000  "
      ]
     },
     "execution_count": 2,
     "metadata": {},
     "output_type": "execute_result"
    }
   ],
   "source": [
    "# view dataframe created from query results\n",
    "results_df.head()"
   ]
  },
  {
   "cell_type": "code",
   "execution_count": 3,
   "metadata": {},
   "outputs": [
    {
     "data": {
      "text/plain": [
       "call_date        object\n",
       "battalion        object\n",
       "received_dttm    object\n",
       "on_scene_dttm    object\n",
       "dtype: object"
      ]
     },
     "execution_count": 3,
     "metadata": {},
     "output_type": "execute_result"
    }
   ],
   "source": [
    "# evaluate column data types\n",
    "results_df.dtypes"
   ]
  },
  {
   "cell_type": "code",
   "execution_count": 4,
   "metadata": {},
   "outputs": [
    {
     "data": {
      "text/html": [
       "<div>\n",
       "<style scoped>\n",
       "    .dataframe tbody tr th:only-of-type {\n",
       "        vertical-align: middle;\n",
       "    }\n",
       "\n",
       "    .dataframe tbody tr th {\n",
       "        vertical-align: top;\n",
       "    }\n",
       "\n",
       "    .dataframe thead th {\n",
       "        text-align: right;\n",
       "    }\n",
       "</style>\n",
       "<table border=\"1\" class=\"dataframe\">\n",
       "  <thead>\n",
       "    <tr style=\"text-align: right;\">\n",
       "      <th></th>\n",
       "      <th>call_date</th>\n",
       "      <th>battalion</th>\n",
       "      <th>received_dttm</th>\n",
       "      <th>on_scene_dttm</th>\n",
       "    </tr>\n",
       "  </thead>\n",
       "  <tbody>\n",
       "    <tr>\n",
       "      <th>0</th>\n",
       "      <td>2020-03-13T00:00:00.000</td>\n",
       "      <td>B07</td>\n",
       "      <td>2020-03-13T16:20:26.000</td>\n",
       "      <td>2020-03-13T16:28:25.000</td>\n",
       "    </tr>\n",
       "    <tr>\n",
       "      <th>1</th>\n",
       "      <td>2020-03-13T00:00:00.000</td>\n",
       "      <td>B09</td>\n",
       "      <td>2020-03-13T00:32:53.000</td>\n",
       "      <td>2020-03-13T00:37:43.000</td>\n",
       "    </tr>\n",
       "    <tr>\n",
       "      <th>2</th>\n",
       "      <td>2020-03-13T00:00:00.000</td>\n",
       "      <td>B05</td>\n",
       "      <td>2020-03-13T17:00:20.000</td>\n",
       "      <td>2020-03-13T17:11:39.000</td>\n",
       "    </tr>\n",
       "    <tr>\n",
       "      <th>4</th>\n",
       "      <td>2020-03-13T00:00:00.000</td>\n",
       "      <td>B03</td>\n",
       "      <td>2020-03-13T15:12:14.000</td>\n",
       "      <td>2020-03-13T15:18:02.000</td>\n",
       "    </tr>\n",
       "    <tr>\n",
       "      <th>5</th>\n",
       "      <td>2020-03-13T00:00:00.000</td>\n",
       "      <td>B03</td>\n",
       "      <td>2020-03-13T16:00:34.000</td>\n",
       "      <td>2020-03-13T16:16:48.000</td>\n",
       "    </tr>\n",
       "  </tbody>\n",
       "</table>\n",
       "</div>"
      ],
      "text/plain": [
       "                 call_date battalion            received_dttm  \\\n",
       "0  2020-03-13T00:00:00.000       B07  2020-03-13T16:20:26.000   \n",
       "1  2020-03-13T00:00:00.000       B09  2020-03-13T00:32:53.000   \n",
       "2  2020-03-13T00:00:00.000       B05  2020-03-13T17:00:20.000   \n",
       "4  2020-03-13T00:00:00.000       B03  2020-03-13T15:12:14.000   \n",
       "5  2020-03-13T00:00:00.000       B03  2020-03-13T16:00:34.000   \n",
       "\n",
       "             on_scene_dttm  \n",
       "0  2020-03-13T16:28:25.000  \n",
       "1  2020-03-13T00:37:43.000  \n",
       "2  2020-03-13T17:11:39.000  \n",
       "4  2020-03-13T15:18:02.000  \n",
       "5  2020-03-13T16:16:48.000  "
      ]
     },
     "execution_count": 4,
     "metadata": {},
     "output_type": "execute_result"
    }
   ],
   "source": [
    "# drop rows with missing data\n",
    "refined_df = results_df.dropna(how='any')\n",
    "refined_df.head()"
   ]
  },
  {
   "cell_type": "code",
   "execution_count": 5,
   "metadata": {},
   "outputs": [
    {
     "name": "stderr",
     "output_type": "stream",
     "text": [
      "C:\\Users\\Travis Young\\anaconda3\\envs\\PythonData\\lib\\site-packages\\ipykernel_launcher.py:2: SettingWithCopyWarning: \n",
      "A value is trying to be set on a copy of a slice from a DataFrame.\n",
      "Try using .loc[row_indexer,col_indexer] = value instead\n",
      "\n",
      "See the caveats in the documentation: https://pandas.pydata.org/pandas-docs/stable/user_guide/indexing.html#returning-a-view-versus-a-copy\n",
      "  \n",
      "C:\\Users\\Travis Young\\anaconda3\\envs\\PythonData\\lib\\site-packages\\ipykernel_launcher.py:3: SettingWithCopyWarning: \n",
      "A value is trying to be set on a copy of a slice from a DataFrame.\n",
      "Try using .loc[row_indexer,col_indexer] = value instead\n",
      "\n",
      "See the caveats in the documentation: https://pandas.pydata.org/pandas-docs/stable/user_guide/indexing.html#returning-a-view-versus-a-copy\n",
      "  This is separate from the ipykernel package so we can avoid doing imports until\n",
      "C:\\Users\\Travis Young\\anaconda3\\envs\\PythonData\\lib\\site-packages\\ipykernel_launcher.py:4: SettingWithCopyWarning: \n",
      "A value is trying to be set on a copy of a slice from a DataFrame.\n",
      "Try using .loc[row_indexer,col_indexer] = value instead\n",
      "\n",
      "See the caveats in the documentation: https://pandas.pydata.org/pandas-docs/stable/user_guide/indexing.html#returning-a-view-versus-a-copy\n",
      "  after removing the cwd from sys.path.\n"
     ]
    },
    {
     "data": {
      "text/html": [
       "<div>\n",
       "<style scoped>\n",
       "    .dataframe tbody tr th:only-of-type {\n",
       "        vertical-align: middle;\n",
       "    }\n",
       "\n",
       "    .dataframe tbody tr th {\n",
       "        vertical-align: top;\n",
       "    }\n",
       "\n",
       "    .dataframe thead th {\n",
       "        text-align: right;\n",
       "    }\n",
       "</style>\n",
       "<table border=\"1\" class=\"dataframe\">\n",
       "  <thead>\n",
       "    <tr style=\"text-align: right;\">\n",
       "      <th></th>\n",
       "      <th>call_date</th>\n",
       "      <th>battalion</th>\n",
       "      <th>received_dttm</th>\n",
       "      <th>on_scene_dttm</th>\n",
       "    </tr>\n",
       "  </thead>\n",
       "  <tbody>\n",
       "    <tr>\n",
       "      <th>0</th>\n",
       "      <td>2020-03-13</td>\n",
       "      <td>B07</td>\n",
       "      <td>2020-03-13 16:20:26</td>\n",
       "      <td>2020-03-13 16:28:25</td>\n",
       "    </tr>\n",
       "    <tr>\n",
       "      <th>1</th>\n",
       "      <td>2020-03-13</td>\n",
       "      <td>B09</td>\n",
       "      <td>2020-03-13 00:32:53</td>\n",
       "      <td>2020-03-13 00:37:43</td>\n",
       "    </tr>\n",
       "    <tr>\n",
       "      <th>2</th>\n",
       "      <td>2020-03-13</td>\n",
       "      <td>B05</td>\n",
       "      <td>2020-03-13 17:00:20</td>\n",
       "      <td>2020-03-13 17:11:39</td>\n",
       "    </tr>\n",
       "    <tr>\n",
       "      <th>4</th>\n",
       "      <td>2020-03-13</td>\n",
       "      <td>B03</td>\n",
       "      <td>2020-03-13 15:12:14</td>\n",
       "      <td>2020-03-13 15:18:02</td>\n",
       "    </tr>\n",
       "    <tr>\n",
       "      <th>5</th>\n",
       "      <td>2020-03-13</td>\n",
       "      <td>B03</td>\n",
       "      <td>2020-03-13 16:00:34</td>\n",
       "      <td>2020-03-13 16:16:48</td>\n",
       "    </tr>\n",
       "  </tbody>\n",
       "</table>\n",
       "</div>"
      ],
      "text/plain": [
       "   call_date battalion       received_dttm       on_scene_dttm\n",
       "0 2020-03-13       B07 2020-03-13 16:20:26 2020-03-13 16:28:25\n",
       "1 2020-03-13       B09 2020-03-13 00:32:53 2020-03-13 00:37:43\n",
       "2 2020-03-13       B05 2020-03-13 17:00:20 2020-03-13 17:11:39\n",
       "4 2020-03-13       B03 2020-03-13 15:12:14 2020-03-13 15:18:02\n",
       "5 2020-03-13       B03 2020-03-13 16:00:34 2020-03-13 16:16:48"
      ]
     },
     "execution_count": 5,
     "metadata": {},
     "output_type": "execute_result"
    }
   ],
   "source": [
    "# Convert datatype to datetime format for call_date, received_dttm, and on_scene_dttm\n",
    "refined_df['call_date'] = pd.to_datetime(refined_df['call_date'])\n",
    "refined_df['received_dttm'] = pd.to_datetime(refined_df['received_dttm'])\n",
    "refined_df['on_scene_dttm'] = pd.to_datetime(refined_df['on_scene_dttm'])\n",
    "refined_df.head()"
   ]
  },
  {
   "cell_type": "code",
   "execution_count": 6,
   "metadata": {},
   "outputs": [
    {
     "name": "stderr",
     "output_type": "stream",
     "text": [
      "C:\\Users\\Travis Young\\anaconda3\\envs\\PythonData\\lib\\site-packages\\ipykernel_launcher.py:2: SettingWithCopyWarning: \n",
      "A value is trying to be set on a copy of a slice from a DataFrame.\n",
      "Try using .loc[row_indexer,col_indexer] = value instead\n",
      "\n",
      "See the caveats in the documentation: https://pandas.pydata.org/pandas-docs/stable/user_guide/indexing.html#returning-a-view-versus-a-copy\n",
      "  \n",
      "C:\\Users\\Travis Young\\anaconda3\\envs\\PythonData\\lib\\site-packages\\ipykernel_launcher.py:3: SettingWithCopyWarning: \n",
      "A value is trying to be set on a copy of a slice from a DataFrame.\n",
      "Try using .loc[row_indexer,col_indexer] = value instead\n",
      "\n",
      "See the caveats in the documentation: https://pandas.pydata.org/pandas-docs/stable/user_guide/indexing.html#returning-a-view-versus-a-copy\n",
      "  This is separate from the ipykernel package so we can avoid doing imports until\n"
     ]
    },
    {
     "data": {
      "text/html": [
       "<div>\n",
       "<style scoped>\n",
       "    .dataframe tbody tr th:only-of-type {\n",
       "        vertical-align: middle;\n",
       "    }\n",
       "\n",
       "    .dataframe tbody tr th {\n",
       "        vertical-align: top;\n",
       "    }\n",
       "\n",
       "    .dataframe thead th {\n",
       "        text-align: right;\n",
       "    }\n",
       "</style>\n",
       "<table border=\"1\" class=\"dataframe\">\n",
       "  <thead>\n",
       "    <tr style=\"text-align: right;\">\n",
       "      <th></th>\n",
       "      <th>call_date</th>\n",
       "      <th>battalion</th>\n",
       "      <th>received_dttm</th>\n",
       "      <th>on_scene_dttm</th>\n",
       "      <th>month</th>\n",
       "      <th>response_time</th>\n",
       "    </tr>\n",
       "  </thead>\n",
       "  <tbody>\n",
       "    <tr>\n",
       "      <th>0</th>\n",
       "      <td>2020-03-13</td>\n",
       "      <td>B07</td>\n",
       "      <td>2020-03-13 16:20:26</td>\n",
       "      <td>2020-03-13 16:28:25</td>\n",
       "      <td>3</td>\n",
       "      <td>00:07:59</td>\n",
       "    </tr>\n",
       "    <tr>\n",
       "      <th>1</th>\n",
       "      <td>2020-03-13</td>\n",
       "      <td>B09</td>\n",
       "      <td>2020-03-13 00:32:53</td>\n",
       "      <td>2020-03-13 00:37:43</td>\n",
       "      <td>3</td>\n",
       "      <td>00:04:50</td>\n",
       "    </tr>\n",
       "    <tr>\n",
       "      <th>2</th>\n",
       "      <td>2020-03-13</td>\n",
       "      <td>B05</td>\n",
       "      <td>2020-03-13 17:00:20</td>\n",
       "      <td>2020-03-13 17:11:39</td>\n",
       "      <td>3</td>\n",
       "      <td>00:11:19</td>\n",
       "    </tr>\n",
       "    <tr>\n",
       "      <th>4</th>\n",
       "      <td>2020-03-13</td>\n",
       "      <td>B03</td>\n",
       "      <td>2020-03-13 15:12:14</td>\n",
       "      <td>2020-03-13 15:18:02</td>\n",
       "      <td>3</td>\n",
       "      <td>00:05:48</td>\n",
       "    </tr>\n",
       "    <tr>\n",
       "      <th>5</th>\n",
       "      <td>2020-03-13</td>\n",
       "      <td>B03</td>\n",
       "      <td>2020-03-13 16:00:34</td>\n",
       "      <td>2020-03-13 16:16:48</td>\n",
       "      <td>3</td>\n",
       "      <td>00:16:14</td>\n",
       "    </tr>\n",
       "  </tbody>\n",
       "</table>\n",
       "</div>"
      ],
      "text/plain": [
       "   call_date battalion       received_dttm       on_scene_dttm  month  \\\n",
       "0 2020-03-13       B07 2020-03-13 16:20:26 2020-03-13 16:28:25      3   \n",
       "1 2020-03-13       B09 2020-03-13 00:32:53 2020-03-13 00:37:43      3   \n",
       "2 2020-03-13       B05 2020-03-13 17:00:20 2020-03-13 17:11:39      3   \n",
       "4 2020-03-13       B03 2020-03-13 15:12:14 2020-03-13 15:18:02      3   \n",
       "5 2020-03-13       B03 2020-03-13 16:00:34 2020-03-13 16:16:48      3   \n",
       "\n",
       "  response_time  \n",
       "0      00:07:59  \n",
       "1      00:04:50  \n",
       "2      00:11:19  \n",
       "4      00:05:48  \n",
       "5      00:16:14  "
      ]
     },
     "execution_count": 6,
     "metadata": {},
     "output_type": "execute_result"
    }
   ],
   "source": [
    "# establish the month and response time data series\n",
    "refined_df['month'] = refined_df['call_date'].dt.month\n",
    "refined_df['response_time'] = refined_df['on_scene_dttm'] - refined_df['received_dttm']\n",
    "refined_df.head()"
   ]
  },
  {
   "cell_type": "code",
   "execution_count": 7,
   "metadata": {},
   "outputs": [
    {
     "data": {
      "text/html": [
       "<div>\n",
       "<style scoped>\n",
       "    .dataframe tbody tr th:only-of-type {\n",
       "        vertical-align: middle;\n",
       "    }\n",
       "\n",
       "    .dataframe tbody tr th {\n",
       "        vertical-align: top;\n",
       "    }\n",
       "\n",
       "    .dataframe thead th {\n",
       "        text-align: right;\n",
       "    }\n",
       "</style>\n",
       "<table border=\"1\" class=\"dataframe\">\n",
       "  <thead>\n",
       "    <tr style=\"text-align: right;\">\n",
       "      <th></th>\n",
       "      <th>month</th>\n",
       "      <th>response_time</th>\n",
       "    </tr>\n",
       "  </thead>\n",
       "  <tbody>\n",
       "    <tr>\n",
       "      <th>count</th>\n",
       "      <td>225476.000000</td>\n",
       "      <td>225476</td>\n",
       "    </tr>\n",
       "    <tr>\n",
       "      <th>mean</th>\n",
       "      <td>6.509788</td>\n",
       "      <td>0 days 00:10:15.858095</td>\n",
       "    </tr>\n",
       "    <tr>\n",
       "      <th>std</th>\n",
       "      <td>3.469403</td>\n",
       "      <td>0 days 00:22:17.234366</td>\n",
       "    </tr>\n",
       "    <tr>\n",
       "      <th>min</th>\n",
       "      <td>1.000000</td>\n",
       "      <td>-1 days +08:02:52</td>\n",
       "    </tr>\n",
       "    <tr>\n",
       "      <th>25%</th>\n",
       "      <td>3.000000</td>\n",
       "      <td>0 days 00:05:30</td>\n",
       "    </tr>\n",
       "    <tr>\n",
       "      <th>50%</th>\n",
       "      <td>7.000000</td>\n",
       "      <td>0 days 00:07:26</td>\n",
       "    </tr>\n",
       "    <tr>\n",
       "      <th>75%</th>\n",
       "      <td>10.000000</td>\n",
       "      <td>0 days 00:11:18.250000</td>\n",
       "    </tr>\n",
       "    <tr>\n",
       "      <th>max</th>\n",
       "      <td>12.000000</td>\n",
       "      <td>1 days 18:41:53</td>\n",
       "    </tr>\n",
       "  </tbody>\n",
       "</table>\n",
       "</div>"
      ],
      "text/plain": [
       "               month           response_time\n",
       "count  225476.000000                  225476\n",
       "mean        6.509788  0 days 00:10:15.858095\n",
       "std         3.469403  0 days 00:22:17.234366\n",
       "min         1.000000       -1 days +08:02:52\n",
       "25%         3.000000         0 days 00:05:30\n",
       "50%         7.000000         0 days 00:07:26\n",
       "75%        10.000000  0 days 00:11:18.250000\n",
       "max        12.000000         1 days 18:41:53"
      ]
     },
     "execution_count": 7,
     "metadata": {},
     "output_type": "execute_result"
    }
   ],
   "source": [
    "# Use describe to get a quick statistical summary of the data\n",
    "refined_df.describe()"
   ]
  },
  {
   "cell_type": "code",
   "execution_count": 8,
   "metadata": {},
   "outputs": [
    {
     "data": {
      "text/plain": [
       "call_date         datetime64[ns]\n",
       "battalion                 object\n",
       "received_dttm     datetime64[ns]\n",
       "on_scene_dttm     datetime64[ns]\n",
       "month                      int64\n",
       "response_time    timedelta64[ns]\n",
       "dtype: object"
      ]
     },
     "execution_count": 8,
     "metadata": {},
     "output_type": "execute_result"
    }
   ],
   "source": [
    "refined_df.dtypes"
   ]
  },
  {
   "cell_type": "code",
   "execution_count": 9,
   "metadata": {
    "scrolled": true
   },
   "outputs": [
    {
     "data": {
      "image/png": "[encoded data removed]",
      "text/plain": [
       "<Figure size 432x288 with 1 Axes>"
      ]
     },
     "metadata": {
      "needs_background": "light"
     },
     "output_type": "display_data"
    }
   ],
   "source": [
    "# plot hisotgram to confirm data is representative of past 12 months\n",
    "ax = refined_df['month'].plot.hist(bins=12, alpha=0.5)"
   ]
  },
  {
   "cell_type": "code",
   "execution_count": 10,
   "metadata": {},
   "outputs": [
    {
     "data": {
      "text/plain": [
       "<matplotlib.axes._subplots.AxesSubplot at 0x207a84d0908>"
      ]
     },
     "execution_count": 10,
     "metadata": {},
     "output_type": "execute_result"
    },
    {
     "data": {
      "image/png": "[encoded data removed]",
      "text/plain": [
       "<Figure size 432x288 with 1 Axes>"
      ]
     },
     "metadata": {
      "needs_background": "light"
     },
     "output_type": "display_data"
    }
   ],
   "source": [
    "# take a look at the time distribution for response time\n",
    "refined_df['response_time'].astype('timedelta64[m]').plot.hist(bins=20, alpha=0.5)"
   ]
  },
  {
   "cell_type": "code",
   "execution_count": 11,
   "metadata": {},
   "outputs": [
    {
     "data": {
      "text/plain": [
       "{'whiskers': [<matplotlib.lines.Line2D at 0x207a8a0d9b0>,\n",
       "  <matplotlib.lines.Line2D at 0x207a8a0dd68>],\n",
       " 'caps': [<matplotlib.lines.Line2D at 0x207a8a6c0f0>,\n",
       "  <matplotlib.lines.Line2D at 0x207a8a6c438>],\n",
       " 'boxes': [<matplotlib.lines.Line2D at 0x207a8a0d630>],\n",
       " 'medians': [<matplotlib.lines.Line2D at 0x207a8a6c780>],\n",
       " 'fliers': [<matplotlib.lines.Line2D at 0x207a8a6cac8>],\n",
       " 'means': []}"
      ]
     },
     "execution_count": 11,
     "metadata": {},
     "output_type": "execute_result"
    },
    {
     "data": {
      "image/png": "[encoded data removed]",
      "text/plain": [
       "<Figure size 432x288 with 1 Axes>"
      ]
     },
     "metadata": {
      "needs_background": "light"
     },
     "output_type": "display_data"
    }
   ],
   "source": [
    "# Have a look at the box plot to assess the data for outliers\n",
    "import matplotlib.pyplot as plt\n",
    "plt.boxplot(refined_df['response_time'].astype('timedelta64[m]'))"
   ]
  },
  {
   "cell_type": "markdown",
   "metadata": {},
   "source": [
    "For this example, the majority of calls have a response time of pretty close to zero minutes as shown by the histogram.  All negative response time data should be removed as it is likely a data entry error.  The box plot reveals a lot of outliers in the data on the long response time side of the data.  Where most of the data falls within 3 standard deviations of the mean, I am going to compare the data using and upper limit of +3 std dev from the mean to an upper limit to 24 hours (1,440 minutes or 86,400 seconds) because the box plots shows a number of values outside this range.  "
   ]
  },
  {
   "cell_type": "markdown",
   "metadata": {},
   "source": [
    "### Data using a range of 1 second to 3 standard deviations above the mean"
   ]
  },
  {
   "cell_type": "code",
   "execution_count": 12,
   "metadata": {},
   "outputs": [],
   "source": [
    "# import numpy to find mean and standard deviation for response_time\n",
    "import numpy as np"
   ]
  },
  {
   "cell_type": "code",
   "execution_count": 13,
   "metadata": {},
   "outputs": [
    {
     "name": "stdout",
     "output_type": "stream",
     "text": [
      "0 days 00:10:15.858095\n"
     ]
    },
    {
     "data": {
      "text/plain": [
       "Timedelta('0 days 00:22:17.231400')"
      ]
     },
     "execution_count": 13,
     "metadata": {},
     "output_type": "execute_result"
    }
   ],
   "source": [
    "# find the mean and standard deviation for the refined dataset\n",
    "mean = np.mean(refined_df['response_time'])\n",
    "print(mean)\n",
    "stdDev = np.std(refined_df['response_time'])\n",
    "stdDev"
   ]
  },
  {
   "cell_type": "code",
   "execution_count": 14,
   "metadata": {},
   "outputs": [
    {
     "data": {
      "text/html": [
       "<div>\n",
       "<style scoped>\n",
       "    .dataframe tbody tr th:only-of-type {\n",
       "        vertical-align: middle;\n",
       "    }\n",
       "\n",
       "    .dataframe tbody tr th {\n",
       "        vertical-align: top;\n",
       "    }\n",
       "\n",
       "    .dataframe thead th {\n",
       "        text-align: right;\n",
       "    }\n",
       "</style>\n",
       "<table border=\"1\" class=\"dataframe\">\n",
       "  <thead>\n",
       "    <tr style=\"text-align: right;\">\n",
       "      <th></th>\n",
       "      <th>call_date</th>\n",
       "      <th>battalion</th>\n",
       "      <th>received_dttm</th>\n",
       "      <th>on_scene_dttm</th>\n",
       "      <th>month</th>\n",
       "      <th>response_time</th>\n",
       "    </tr>\n",
       "  </thead>\n",
       "  <tbody>\n",
       "    <tr>\n",
       "      <th>0</th>\n",
       "      <td>2020-03-13</td>\n",
       "      <td>B07</td>\n",
       "      <td>2020-03-13 16:20:26</td>\n",
       "      <td>2020-03-13 16:28:25</td>\n",
       "      <td>3</td>\n",
       "      <td>00:07:59</td>\n",
       "    </tr>\n",
       "    <tr>\n",
       "      <th>1</th>\n",
       "      <td>2020-03-13</td>\n",
       "      <td>B09</td>\n",
       "      <td>2020-03-13 00:32:53</td>\n",
       "      <td>2020-03-13 00:37:43</td>\n",
       "      <td>3</td>\n",
       "      <td>00:04:50</td>\n",
       "    </tr>\n",
       "    <tr>\n",
       "      <th>2</th>\n",
       "      <td>2020-03-13</td>\n",
       "      <td>B05</td>\n",
       "      <td>2020-03-13 17:00:20</td>\n",
       "      <td>2020-03-13 17:11:39</td>\n",
       "      <td>3</td>\n",
       "      <td>00:11:19</td>\n",
       "    </tr>\n",
       "    <tr>\n",
       "      <th>4</th>\n",
       "      <td>2020-03-13</td>\n",
       "      <td>B03</td>\n",
       "      <td>2020-03-13 15:12:14</td>\n",
       "      <td>2020-03-13 15:18:02</td>\n",
       "      <td>3</td>\n",
       "      <td>00:05:48</td>\n",
       "    </tr>\n",
       "    <tr>\n",
       "      <th>5</th>\n",
       "      <td>2020-03-13</td>\n",
       "      <td>B03</td>\n",
       "      <td>2020-03-13 16:00:34</td>\n",
       "      <td>2020-03-13 16:16:48</td>\n",
       "      <td>3</td>\n",
       "      <td>00:16:14</td>\n",
       "    </tr>\n",
       "  </tbody>\n",
       "</table>\n",
       "</div>"
      ],
      "text/plain": [
       "   call_date battalion       received_dttm       on_scene_dttm  month  \\\n",
       "0 2020-03-13       B07 2020-03-13 16:20:26 2020-03-13 16:28:25      3   \n",
       "1 2020-03-13       B09 2020-03-13 00:32:53 2020-03-13 00:37:43      3   \n",
       "2 2020-03-13       B05 2020-03-13 17:00:20 2020-03-13 17:11:39      3   \n",
       "4 2020-03-13       B03 2020-03-13 15:12:14 2020-03-13 15:18:02      3   \n",
       "5 2020-03-13       B03 2020-03-13 16:00:34 2020-03-13 16:16:48      3   \n",
       "\n",
       "  response_time  \n",
       "0      00:07:59  \n",
       "1      00:04:50  \n",
       "2      00:11:19  \n",
       "4      00:05:48  \n",
       "5      00:16:14  "
      ]
     },
     "execution_count": 14,
     "metadata": {},
     "output_type": "execute_result"
    }
   ],
   "source": [
    "# reduce data to response times of at least 1 second up to 3 standard deviations longer than the mean response time\n",
    "response_df = refined_df[refined_df['response_time'] >= pd.Timedelta(1, 's')]\n",
    "response_df = response_df[response_df['response_time'] <= pd.Timedelta(1, 'd')]\n",
    "response_df = response_df[response_df['response_time'] <= pd.Timedelta((3*stdDev+mean), 's')]\n",
    "response_df.head()"
   ]
  },
  {
   "cell_type": "code",
   "execution_count": 15,
   "metadata": {},
   "outputs": [
    {
     "data": {
      "text/html": [
       "<div>\n",
       "<style scoped>\n",
       "    .dataframe tbody tr th:only-of-type {\n",
       "        vertical-align: middle;\n",
       "    }\n",
       "\n",
       "    .dataframe tbody tr th {\n",
       "        vertical-align: top;\n",
       "    }\n",
       "\n",
       "    .dataframe thead th {\n",
       "        text-align: right;\n",
       "    }\n",
       "</style>\n",
       "<table border=\"1\" class=\"dataframe\">\n",
       "  <thead>\n",
       "    <tr style=\"text-align: right;\">\n",
       "      <th></th>\n",
       "      <th>month</th>\n",
       "      <th>response_time</th>\n",
       "    </tr>\n",
       "  </thead>\n",
       "  <tbody>\n",
       "    <tr>\n",
       "      <th>count</th>\n",
       "      <td>222340.000000</td>\n",
       "      <td>222340</td>\n",
       "    </tr>\n",
       "    <tr>\n",
       "      <th>mean</th>\n",
       "      <td>6.508905</td>\n",
       "      <td>0 days 00:09:41.828024</td>\n",
       "    </tr>\n",
       "    <tr>\n",
       "      <th>std</th>\n",
       "      <td>3.470102</td>\n",
       "      <td>0 days 00:07:03.716165</td>\n",
       "    </tr>\n",
       "    <tr>\n",
       "      <th>min</th>\n",
       "      <td>1.000000</td>\n",
       "      <td>0 days 00:00:02</td>\n",
       "    </tr>\n",
       "    <tr>\n",
       "      <th>25%</th>\n",
       "      <td>3.000000</td>\n",
       "      <td>0 days 00:05:33</td>\n",
       "    </tr>\n",
       "    <tr>\n",
       "      <th>50%</th>\n",
       "      <td>7.000000</td>\n",
       "      <td>0 days 00:07:28</td>\n",
       "    </tr>\n",
       "    <tr>\n",
       "      <th>75%</th>\n",
       "      <td>10.000000</td>\n",
       "      <td>0 days 00:11:20</td>\n",
       "    </tr>\n",
       "    <tr>\n",
       "      <th>max</th>\n",
       "      <td>12.000000</td>\n",
       "      <td>0 days 01:17:07</td>\n",
       "    </tr>\n",
       "  </tbody>\n",
       "</table>\n",
       "</div>"
      ],
      "text/plain": [
       "               month           response_time\n",
       "count  222340.000000                  222340\n",
       "mean        6.508905  0 days 00:09:41.828024\n",
       "std         3.470102  0 days 00:07:03.716165\n",
       "min         1.000000         0 days 00:00:02\n",
       "25%         3.000000         0 days 00:05:33\n",
       "50%         7.000000         0 days 00:07:28\n",
       "75%        10.000000         0 days 00:11:20\n",
       "max        12.000000         0 days 01:17:07"
      ]
     },
     "execution_count": 15,
     "metadata": {},
     "output_type": "execute_result"
    }
   ],
   "source": [
    "# statistical summary\n",
    "response_df.describe()"
   ]
  },
  {
   "cell_type": "code",
   "execution_count": 16,
   "metadata": {},
   "outputs": [
    {
     "data": {
      "text/plain": [
       "<matplotlib.axes._subplots.AxesSubplot at 0x207a8bc7a90>"
      ]
     },
     "execution_count": 16,
     "metadata": {},
     "output_type": "execute_result"
    },
    {
     "data": {
      "image/png": "[encoded data removed]",
      "text/plain": [
       "<Figure size 432x288 with 1 Axes>"
      ]
     },
     "metadata": {
      "needs_background": "light"
     },
     "output_type": "display_data"
    }
   ],
   "source": [
    "# take a look at the time distribution for response time\n",
    "response_df['response_time'].astype('timedelta64[m]').plot.hist(bins=20, alpha=0.5)"
   ]
  },
  {
   "cell_type": "code",
   "execution_count": 17,
   "metadata": {},
   "outputs": [
    {
     "data": {
      "text/plain": [
       "{'whiskers': [<matplotlib.lines.Line2D at 0x207a906dcf8>,\n",
       "  <matplotlib.lines.Line2D at 0x207a90920f0>],\n",
       " 'caps': [<matplotlib.lines.Line2D at 0x207a9092438>,\n",
       "  <matplotlib.lines.Line2D at 0x207a9092780>],\n",
       " 'boxes': [<matplotlib.lines.Line2D at 0x207a906dba8>],\n",
       " 'medians': [<matplotlib.lines.Line2D at 0x207a9092ac8>],\n",
       " 'fliers': [<matplotlib.lines.Line2D at 0x207a9092e10>],\n",
       " 'means': []}"
      ]
     },
     "execution_count": 17,
     "metadata": {},
     "output_type": "execute_result"
    },
    {
     "data": {
      "image/png": "[encoded data removed]",
      "text/plain": [
       "<Figure size 432x288 with 1 Axes>"
      ]
     },
     "metadata": {
      "needs_background": "light"
     },
     "output_type": "display_data"
    }
   ],
   "source": [
    "plt.boxplot(response_df['response_time'].astype('timedelta64[m]'))"
   ]
  },
  {
   "cell_type": "markdown",
   "metadata": {},
   "source": [
    "### Data using range of 1 second to 86,400 seconds (24 hours)"
   ]
  },
  {
   "cell_type": "code",
   "execution_count": 18,
   "metadata": {},
   "outputs": [
    {
     "data": {
      "text/html": [
       "<div>\n",
       "<style scoped>\n",
       "    .dataframe tbody tr th:only-of-type {\n",
       "        vertical-align: middle;\n",
       "    }\n",
       "\n",
       "    .dataframe tbody tr th {\n",
       "        vertical-align: top;\n",
       "    }\n",
       "\n",
       "    .dataframe thead th {\n",
       "        text-align: right;\n",
       "    }\n",
       "</style>\n",
       "<table border=\"1\" class=\"dataframe\">\n",
       "  <thead>\n",
       "    <tr style=\"text-align: right;\">\n",
       "      <th></th>\n",
       "      <th>call_date</th>\n",
       "      <th>battalion</th>\n",
       "      <th>received_dttm</th>\n",
       "      <th>on_scene_dttm</th>\n",
       "      <th>month</th>\n",
       "      <th>response_time</th>\n",
       "    </tr>\n",
       "  </thead>\n",
       "  <tbody>\n",
       "    <tr>\n",
       "      <th>0</th>\n",
       "      <td>2020-03-13</td>\n",
       "      <td>B07</td>\n",
       "      <td>2020-03-13 16:20:26</td>\n",
       "      <td>2020-03-13 16:28:25</td>\n",
       "      <td>3</td>\n",
       "      <td>00:07:59</td>\n",
       "    </tr>\n",
       "    <tr>\n",
       "      <th>1</th>\n",
       "      <td>2020-03-13</td>\n",
       "      <td>B09</td>\n",
       "      <td>2020-03-13 00:32:53</td>\n",
       "      <td>2020-03-13 00:37:43</td>\n",
       "      <td>3</td>\n",
       "      <td>00:04:50</td>\n",
       "    </tr>\n",
       "    <tr>\n",
       "      <th>2</th>\n",
       "      <td>2020-03-13</td>\n",
       "      <td>B05</td>\n",
       "      <td>2020-03-13 17:00:20</td>\n",
       "      <td>2020-03-13 17:11:39</td>\n",
       "      <td>3</td>\n",
       "      <td>00:11:19</td>\n",
       "    </tr>\n",
       "    <tr>\n",
       "      <th>4</th>\n",
       "      <td>2020-03-13</td>\n",
       "      <td>B03</td>\n",
       "      <td>2020-03-13 15:12:14</td>\n",
       "      <td>2020-03-13 15:18:02</td>\n",
       "      <td>3</td>\n",
       "      <td>00:05:48</td>\n",
       "    </tr>\n",
       "    <tr>\n",
       "      <th>5</th>\n",
       "      <td>2020-03-13</td>\n",
       "      <td>B03</td>\n",
       "      <td>2020-03-13 16:00:34</td>\n",
       "      <td>2020-03-13 16:16:48</td>\n",
       "      <td>3</td>\n",
       "      <td>00:16:14</td>\n",
       "    </tr>\n",
       "  </tbody>\n",
       "</table>\n",
       "</div>"
      ],
      "text/plain": [
       "   call_date battalion       received_dttm       on_scene_dttm  month  \\\n",
       "0 2020-03-13       B07 2020-03-13 16:20:26 2020-03-13 16:28:25      3   \n",
       "1 2020-03-13       B09 2020-03-13 00:32:53 2020-03-13 00:37:43      3   \n",
       "2 2020-03-13       B05 2020-03-13 17:00:20 2020-03-13 17:11:39      3   \n",
       "4 2020-03-13       B03 2020-03-13 15:12:14 2020-03-13 15:18:02      3   \n",
       "5 2020-03-13       B03 2020-03-13 16:00:34 2020-03-13 16:16:48      3   \n",
       "\n",
       "  response_time  \n",
       "0      00:07:59  \n",
       "1      00:04:50  \n",
       "2      00:11:19  \n",
       "4      00:05:48  \n",
       "5      00:16:14  "
      ]
     },
     "execution_count": 18,
     "metadata": {},
     "output_type": "execute_result"
    }
   ],
   "source": [
    "# reduce data to response times of at least 1 second up to 1440 minutes\n",
    "response2_df = refined_df[refined_df['response_time'] >= pd.Timedelta(1, 's')]\n",
    "response2_df = response2_df[response2_df['response_time'] <= pd.Timedelta(1, 'd')]\n",
    "response2_df = response2_df[response2_df['response_time'] <= pd.Timedelta(86400, 's')]\n",
    "response2_df.head()"
   ]
  },
  {
   "cell_type": "code",
   "execution_count": 19,
   "metadata": {},
   "outputs": [
    {
     "data": {
      "text/html": [
       "<div>\n",
       "<style scoped>\n",
       "    .dataframe tbody tr th:only-of-type {\n",
       "        vertical-align: middle;\n",
       "    }\n",
       "\n",
       "    .dataframe tbody tr th {\n",
       "        vertical-align: top;\n",
       "    }\n",
       "\n",
       "    .dataframe thead th {\n",
       "        text-align: right;\n",
       "    }\n",
       "</style>\n",
       "<table border=\"1\" class=\"dataframe\">\n",
       "  <thead>\n",
       "    <tr style=\"text-align: right;\">\n",
       "      <th></th>\n",
       "      <th>month</th>\n",
       "      <th>response_time</th>\n",
       "    </tr>\n",
       "  </thead>\n",
       "  <tbody>\n",
       "    <tr>\n",
       "      <th>count</th>\n",
       "      <td>222952.000000</td>\n",
       "      <td>222952</td>\n",
       "    </tr>\n",
       "    <tr>\n",
       "      <th>mean</th>\n",
       "      <td>6.509926</td>\n",
       "      <td>0 days 00:10:19.879283</td>\n",
       "    </tr>\n",
       "    <tr>\n",
       "      <th>std</th>\n",
       "      <td>3.469767</td>\n",
       "      <td>0 days 00:18:59.333115</td>\n",
       "    </tr>\n",
       "    <tr>\n",
       "      <th>min</th>\n",
       "      <td>1.000000</td>\n",
       "      <td>0 days 00:00:02</td>\n",
       "    </tr>\n",
       "    <tr>\n",
       "      <th>25%</th>\n",
       "      <td>3.000000</td>\n",
       "      <td>0 days 00:05:33</td>\n",
       "    </tr>\n",
       "    <tr>\n",
       "      <th>50%</th>\n",
       "      <td>7.000000</td>\n",
       "      <td>0 days 00:07:29</td>\n",
       "    </tr>\n",
       "    <tr>\n",
       "      <th>75%</th>\n",
       "      <td>10.000000</td>\n",
       "      <td>0 days 00:11:23</td>\n",
       "    </tr>\n",
       "    <tr>\n",
       "      <th>max</th>\n",
       "      <td>12.000000</td>\n",
       "      <td>0 days 23:54:49</td>\n",
       "    </tr>\n",
       "  </tbody>\n",
       "</table>\n",
       "</div>"
      ],
      "text/plain": [
       "               month           response_time\n",
       "count  222952.000000                  222952\n",
       "mean        6.509926  0 days 00:10:19.879283\n",
       "std         3.469767  0 days 00:18:59.333115\n",
       "min         1.000000         0 days 00:00:02\n",
       "25%         3.000000         0 days 00:05:33\n",
       "50%         7.000000         0 days 00:07:29\n",
       "75%        10.000000         0 days 00:11:23\n",
       "max        12.000000         0 days 23:54:49"
      ]
     },
     "execution_count": 19,
     "metadata": {},
     "output_type": "execute_result"
    }
   ],
   "source": [
    "# statistical summary\n",
    "response2_df.describe()"
   ]
  },
  {
   "cell_type": "code",
   "execution_count": 20,
   "metadata": {},
   "outputs": [
    {
     "data": {
      "text/plain": [
       "<matplotlib.axes._subplots.AxesSubplot at 0x207a906d9e8>"
      ]
     },
     "execution_count": 20,
     "metadata": {},
     "output_type": "execute_result"
    },
    {
     "data": {
      "image/png": "[encoded data removed]",
      "text/plain": [
       "<Figure size 720x576 with 1 Axes>"
      ]
     },
     "metadata": {
      "needs_background": "light"
     },
     "output_type": "display_data"
    }
   ],
   "source": [
    "# take a look at the time distribution for response time\n",
    "response2_df['response_time'].astype('timedelta64[m]').plot.hist(bins=20, alpha=0.5, figsize=(10, 8))"
   ]
  },
  {
   "cell_type": "code",
   "execution_count": 21,
   "metadata": {},
   "outputs": [
    {
     "data": {
      "text/plain": [
       "{'whiskers': [<matplotlib.lines.Line2D at 0x207a9640630>,\n",
       "  <matplotlib.lines.Line2D at 0x207a96409e8>],\n",
       " 'caps': [<matplotlib.lines.Line2D at 0x207a9640d30>,\n",
       "  <matplotlib.lines.Line2D at 0x207a96a20b8>],\n",
       " 'boxes': [<matplotlib.lines.Line2D at 0x207a96404e0>],\n",
       " 'medians': [<matplotlib.lines.Line2D at 0x207a96a2400>],\n",
       " 'fliers': [<matplotlib.lines.Line2D at 0x207a96a2748>],\n",
       " 'means': []}"
      ]
     },
     "execution_count": 21,
     "metadata": {},
     "output_type": "execute_result"
    },
    {
     "data": {
      "image/png": "[encoded data removed]",
      "text/plain": [
       "<Figure size 720x720 with 1 Axes>"
      ]
     },
     "metadata": {
      "needs_background": "light"
     },
     "output_type": "display_data"
    }
   ],
   "source": [
    "# look at the boxplot for outliers\n",
    "plt.figure(figsize=(10, 10))\n",
    "plt.boxplot(response2_df['response_time'].astype('timedelta64[m]'))"
   ]
  },
  {
   "cell_type": "markdown",
   "metadata": {},
   "source": [
    "Looking at the boxplots for the two data ranges, I am choosing to move forward with the dataset ranging from 1 second to 24 hours.  There are too many datapoints beyond the quantile ranges to omit while retaining the data integrity.  Without understand the dataset better or what can explain the skew in response times I feel it best to maintain the larger dataset.  "
   ]
  },
  {
   "cell_type": "markdown",
   "metadata": {},
   "source": [
    "## Preparing the CSV table for the 90th percentile of call response times"
   ]
  },
  {
   "cell_type": "code",
   "execution_count": 22,
   "metadata": {},
   "outputs": [
    {
     "data": {
      "text/plain": [
       "month  battalion\n",
       "1      B01          595.673038\n",
       "       B02          564.488968\n",
       "       B03          612.320458\n",
       "       B04          545.832836\n",
       "       B05          584.109655\n",
       "                       ...    \n",
       "12     B07          608.347280\n",
       "       B08          884.883041\n",
       "       B09          670.838020\n",
       "       B10          680.128780\n",
       "       B99          768.262295\n",
       "Name: response_time, Length: 133, dtype: float64"
      ]
     },
     "execution_count": 22,
     "metadata": {},
     "output_type": "execute_result"
    }
   ],
   "source": [
    "# Format the response time data for analysis using groupby\n",
    "grouping_df = response2_df.copy()\n",
    "grouping_df[\"response_time\"] = grouping_df.loc[:, \"response_time\"].astype('timedelta64[s]')\n",
    "\n",
    "# Group data by month and battalion\n",
    "gb = grouping_df.groupby(['month', 'battalion'])\n",
    "gb['response_time'].mean()"
   ]
  },
  {
   "cell_type": "code",
   "execution_count": 23,
   "metadata": {
    "scrolled": true
   },
   "outputs": [
    {
     "data": {
      "text/html": [
       "<div>\n",
       "<style scoped>\n",
       "    .dataframe tbody tr th:only-of-type {\n",
       "        vertical-align: middle;\n",
       "    }\n",
       "\n",
       "    .dataframe tbody tr th {\n",
       "        vertical-align: top;\n",
       "    }\n",
       "\n",
       "    .dataframe thead th {\n",
       "        text-align: right;\n",
       "    }\n",
       "</style>\n",
       "<table border=\"1\" class=\"dataframe\">\n",
       "  <thead>\n",
       "    <tr style=\"text-align: right;\">\n",
       "      <th></th>\n",
       "      <th>month</th>\n",
       "      <th>battalion</th>\n",
       "      <th>response_time</th>\n",
       "    </tr>\n",
       "  </thead>\n",
       "  <tbody>\n",
       "    <tr>\n",
       "      <th>0</th>\n",
       "      <td>1</td>\n",
       "      <td>B01</td>\n",
       "      <td>00:18:30.500000</td>\n",
       "    </tr>\n",
       "    <tr>\n",
       "      <th>1</th>\n",
       "      <td>1</td>\n",
       "      <td>B02</td>\n",
       "      <td>00:16:51</td>\n",
       "    </tr>\n",
       "    <tr>\n",
       "      <th>2</th>\n",
       "      <td>1</td>\n",
       "      <td>B03</td>\n",
       "      <td>00:19:06.600000</td>\n",
       "    </tr>\n",
       "    <tr>\n",
       "      <th>3</th>\n",
       "      <td>1</td>\n",
       "      <td>B04</td>\n",
       "      <td>00:16:15.400000</td>\n",
       "    </tr>\n",
       "    <tr>\n",
       "      <th>4</th>\n",
       "      <td>1</td>\n",
       "      <td>B05</td>\n",
       "      <td>00:17:21</td>\n",
       "    </tr>\n",
       "  </tbody>\n",
       "</table>\n",
       "</div>"
      ],
      "text/plain": [
       "   month battalion   response_time\n",
       "0      1       B01 00:18:30.500000\n",
       "1      1       B02        00:16:51\n",
       "2      1       B03 00:19:06.600000\n",
       "3      1       B04 00:16:15.400000\n",
       "4      1       B05        00:17:21"
      ]
     },
     "execution_count": 23,
     "metadata": {},
     "output_type": "execute_result"
    }
   ],
   "source": [
    "# Create new dataframe using grouped object\n",
    "Response_Time_df = gb['response_time'].quantile(0.9).reset_index()\n",
    "\n",
    "# Convert response time back to time\n",
    "Response_Time_df['response_time'] = Response_Time_df['response_time'].apply(pd.to_timedelta, unit = 's').dt.floor('10ms')\n",
    "Response_Time_df.head()"
   ]
  },
  {
   "cell_type": "code",
   "execution_count": 24,
   "metadata": {},
   "outputs": [
    {
     "data": {
      "text/html": [
       "<div>\n",
       "<style scoped>\n",
       "    .dataframe tbody tr th:only-of-type {\n",
       "        vertical-align: middle;\n",
       "    }\n",
       "\n",
       "    .dataframe tbody tr th {\n",
       "        vertical-align: top;\n",
       "    }\n",
       "\n",
       "    .dataframe thead th {\n",
       "        text-align: right;\n",
       "    }\n",
       "</style>\n",
       "<table border=\"1\" class=\"dataframe\">\n",
       "  <thead>\n",
       "    <tr style=\"text-align: right;\">\n",
       "      <th></th>\n",
       "      <th>month</th>\n",
       "      <th>response_time</th>\n",
       "    </tr>\n",
       "  </thead>\n",
       "  <tbody>\n",
       "    <tr>\n",
       "      <th>count</th>\n",
       "      <td>133.000000</td>\n",
       "      <td>133</td>\n",
       "    </tr>\n",
       "    <tr>\n",
       "      <th>mean</th>\n",
       "      <td>6.533835</td>\n",
       "      <td>0 days 00:18:16.821804</td>\n",
       "    </tr>\n",
       "    <tr>\n",
       "      <th>std</th>\n",
       "      <td>3.474035</td>\n",
       "      <td>0 days 00:02:47.330715</td>\n",
       "    </tr>\n",
       "    <tr>\n",
       "      <th>min</th>\n",
       "      <td>1.000000</td>\n",
       "      <td>0 days 00:14:23.200000</td>\n",
       "    </tr>\n",
       "    <tr>\n",
       "      <th>25%</th>\n",
       "      <td>4.000000</td>\n",
       "      <td>0 days 00:16:41.400000</td>\n",
       "    </tr>\n",
       "    <tr>\n",
       "      <th>50%</th>\n",
       "      <td>7.000000</td>\n",
       "      <td>0 days 00:18:14</td>\n",
       "    </tr>\n",
       "    <tr>\n",
       "      <th>75%</th>\n",
       "      <td>10.000000</td>\n",
       "      <td>0 days 00:19:06.900000</td>\n",
       "    </tr>\n",
       "    <tr>\n",
       "      <th>max</th>\n",
       "      <td>12.000000</td>\n",
       "      <td>0 days 00:42:22</td>\n",
       "    </tr>\n",
       "  </tbody>\n",
       "</table>\n",
       "</div>"
      ],
      "text/plain": [
       "            month           response_time\n",
       "count  133.000000                     133\n",
       "mean     6.533835  0 days 00:18:16.821804\n",
       "std      3.474035  0 days 00:02:47.330715\n",
       "min      1.000000  0 days 00:14:23.200000\n",
       "25%      4.000000  0 days 00:16:41.400000\n",
       "50%      7.000000         0 days 00:18:14\n",
       "75%     10.000000  0 days 00:19:06.900000\n",
       "max     12.000000         0 days 00:42:22"
      ]
     },
     "execution_count": 24,
     "metadata": {},
     "output_type": "execute_result"
    }
   ],
   "source": [
    "# statistical summary\n",
    "Response_Time_df.describe()"
   ]
  },
  {
   "cell_type": "code",
   "execution_count": 25,
   "metadata": {},
   "outputs": [
    {
     "data": {
      "text/plain": [
       "<matplotlib.axes._subplots.AxesSubplot at 0x207a97622e8>"
      ]
     },
     "execution_count": 25,
     "metadata": {},
     "output_type": "execute_result"
    },
    {
     "data": {
      "image/png": "[encoded data removed]",
      "text/plain": [
       "<Figure size 576x432 with 1 Axes>"
      ]
     },
     "metadata": {
      "needs_background": "light"
     },
     "output_type": "display_data"
    }
   ],
   "source": [
    "# histogram\n",
    "Response_Time_df['response_time'].astype('timedelta64[m]').plot.hist(bins=15, alpha=0.5, figsize=(8, 6))"
   ]
  },
  {
   "cell_type": "code",
   "execution_count": 26,
   "metadata": {},
   "outputs": [
    {
     "data": {
      "text/plain": [
       "{'whiskers': [<matplotlib.lines.Line2D at 0x207a9c61f28>,\n",
       "  <matplotlib.lines.Line2D at 0x207a9c812b0>],\n",
       " 'caps': [<matplotlib.lines.Line2D at 0x207a9c815f8>,\n",
       "  <matplotlib.lines.Line2D at 0x207a9c81940>],\n",
       " 'boxes': [<matplotlib.lines.Line2D at 0x207a9c61be0>],\n",
       " 'medians': [<matplotlib.lines.Line2D at 0x207a9c81c88>],\n",
       " 'fliers': [<matplotlib.lines.Line2D at 0x207a9c81fd0>],\n",
       " 'means': []}"
      ]
     },
     "execution_count": 26,
     "metadata": {},
     "output_type": "execute_result"
    },
    {
     "data": {
      "image/png": "[encoded data removed]",
      "text/plain": [
       "<Figure size 432x432 with 1 Axes>"
      ]
     },
     "metadata": {
      "needs_background": "light"
     },
     "output_type": "display_data"
    }
   ],
   "source": [
    "# boxplot\n",
    "plt.figure(figsize=(6, 6))\n",
    "plt.boxplot(Response_Time_df['response_time'].astype('timedelta64[m]'))"
   ]
  },
  {
   "cell_type": "code",
   "execution_count": 27,
   "metadata": {},
   "outputs": [],
   "source": [
    "# Export the dataframe to a csv file named \"SFFD_ResponseTime.csv\"\n",
    "Response_Time_df.to_csv(\"SFFD_ResponseTime.csv\", encoding='utf-8', index=False)"
   ]
  }
 ],
 "metadata": {
  "kernelspec": {
   "display_name": "Python [conda env:PythonData] *",
   "language": "python",
   "name": "conda-env-PythonData-py"
  },
  "language_info": {
   "codemirror_mode": {
    "name": "ipython",
    "version": 3
   },
   "file_extension": ".py",
   "mimetype": "text/x-python",
   "name": "python",
   "nbconvert_exporter": "python",
   "pygments_lexer": "ipython3",
   "version": "3.6.10"
  }
 },
 "nbformat": 4,
 "nbformat_minor": 4
}
