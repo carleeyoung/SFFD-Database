{
 "cells": [
  {
   "cell_type": "markdown",
   "metadata": {},
   "source": [
    "# San Francisco Fire Department Battalion Response Times"
   ]
  },
  {
   "cell_type": "code",
   "execution_count": 1,
   "metadata": {},
   "outputs": [
    {
     "name": "stderr",
     "output_type": "stream",
     "text": [
      "WARNING:root:Requests made without an app_token will be subject to strict throttling limits.\n"
     ]
    }
   ],
   "source": [
    "# API query methods from the https://dev.socrata.com/foundry/data.sfgov.org/nuek-vuh3 documentation and examples\n",
    "\n",
    "# make sure to install these packages if necessary before running API query:\n",
    "# pip install pandas\n",
    "# pip install sodapy\n",
    "\n",
    "import pandas as pd\n",
    "from sodapy import Socrata\n",
    "import datetime as dt\n",
    "\n",
    "# Unauthenticated client only works with public data sets. Note 'None'\n",
    "# in place of application token, and no username or password:\n",
    "client = Socrata(\"data.sfgov.org\", None)\n",
    "\n",
    "# establish query date to extract 1 year of data from today's date\n",
    "date = dt.datetime.now() - dt.timedelta(days=365)\n",
    "year_ago = date.strftime(\"%Y-%m-%d\")\n",
    "\n",
    "# Retrieve results from the SFFD data source for all calls in the past year including call date, battalion, received time,\n",
    "# and on scene time, sorted ascending by call date.\n",
    "results = client.get_all(\"nuek-vuh3\",\n",
    "                         where=f\"call_date > '{year_ago}T00:00:00.000'\",\n",
    "                         select=\"call_date, battalion, received_dttm, on_scene_dttm\",\n",
    "                         order=\"call_date ASC\")\n",
    "\n",
    "# Convert to pandas DataFrame\n",
    "results_df = pd.DataFrame.from_records(results)"
   ]
  },
  {
   "cell_type": "code",
   "execution_count": 2,
   "metadata": {},
   "outputs": [
    {
     "data": {
      "text/html": [
       "<div>\n",
       "<style scoped>\n",
       "    .dataframe tbody tr th:only-of-type {\n",
       "        vertical-align: middle;\n",
       "    }\n",
       "\n",
       "    .dataframe tbody tr th {\n",
       "        vertical-align: top;\n",
       "    }\n",
       "\n",
       "    .dataframe thead th {\n",
       "        text-align: right;\n",
       "    }\n",
       "</style>\n",
       "<table border=\"1\" class=\"dataframe\">\n",
       "  <thead>\n",
       "    <tr style=\"text-align: right;\">\n",
       "      <th></th>\n",
       "      <th>call_date</th>\n",
       "      <th>battalion</th>\n",
       "      <th>received_dttm</th>\n",
       "      <th>on_scene_dttm</th>\n",
       "    </tr>\n",
       "  </thead>\n",
       "  <tbody>\n",
       "    <tr>\n",
       "      <th>0</th>\n",
       "      <td>2020-03-14T00:00:00.000</td>\n",
       "      <td>B09</td>\n",
       "      <td>2020-03-14T20:12:02.000</td>\n",
       "      <td>2020-03-14T20:32:18.000</td>\n",
       "    </tr>\n",
       "    <tr>\n",
       "      <th>1</th>\n",
       "      <td>2020-03-14T00:00:00.000</td>\n",
       "      <td>B03</td>\n",
       "      <td>2020-03-14T16:35:48.000</td>\n",
       "      <td>2020-03-14T16:55:40.000</td>\n",
       "    </tr>\n",
       "    <tr>\n",
       "      <th>2</th>\n",
       "      <td>2020-03-14T00:00:00.000</td>\n",
       "      <td>B03</td>\n",
       "      <td>2020-03-14T11:53:29.000</td>\n",
       "      <td>2020-03-14T11:59:05.000</td>\n",
       "    </tr>\n",
       "    <tr>\n",
       "      <th>3</th>\n",
       "      <td>2020-03-14T00:00:00.000</td>\n",
       "      <td>B03</td>\n",
       "      <td>2020-03-14T10:40:40.000</td>\n",
       "      <td>2020-03-14T10:52:42.000</td>\n",
       "    </tr>\n",
       "    <tr>\n",
       "      <th>4</th>\n",
       "      <td>2020-03-14T00:00:00.000</td>\n",
       "      <td>B02</td>\n",
       "      <td>2020-03-14T18:29:15.000</td>\n",
       "      <td>2020-03-14T18:41:05.000</td>\n",
       "    </tr>\n",
       "  </tbody>\n",
       "</table>\n",
       "</div>"
      ],
      "text/plain": [
       "                 call_date battalion            received_dttm  \\\n",
       "0  2020-03-14T00:00:00.000       B09  2020-03-14T20:12:02.000   \n",
       "1  2020-03-14T00:00:00.000       B03  2020-03-14T16:35:48.000   \n",
       "2  2020-03-14T00:00:00.000       B03  2020-03-14T11:53:29.000   \n",
       "3  2020-03-14T00:00:00.000       B03  2020-03-14T10:40:40.000   \n",
       "4  2020-03-14T00:00:00.000       B02  2020-03-14T18:29:15.000   \n",
       "\n",
       "             on_scene_dttm  \n",
       "0  2020-03-14T20:32:18.000  \n",
       "1  2020-03-14T16:55:40.000  \n",
       "2  2020-03-14T11:59:05.000  \n",
       "3  2020-03-14T10:52:42.000  \n",
       "4  2020-03-14T18:41:05.000  "
      ]
     },
     "execution_count": 2,
     "metadata": {},
     "output_type": "execute_result"
    }
   ],
   "source": [
    "# view dataframe created from query results\n",
    "results_df.head()"
   ]
  },
  {
   "cell_type": "code",
   "execution_count": 3,
   "metadata": {},
   "outputs": [
    {
     "data": {
      "text/plain": [
       "call_date        object\n",
       "battalion        object\n",
       "received_dttm    object\n",
       "on_scene_dttm    object\n",
       "dtype: object"
      ]
     },
     "execution_count": 3,
     "metadata": {},
     "output_type": "execute_result"
    }
   ],
   "source": [
    "# evaluate column data types\n",
    "results_df.dtypes"
   ]
  },
  {
   "cell_type": "code",
   "execution_count": 4,
   "metadata": {},
   "outputs": [
    {
     "data": {
      "text/html": [
       "<div>\n",
       "<style scoped>\n",
       "    .dataframe tbody tr th:only-of-type {\n",
       "        vertical-align: middle;\n",
       "    }\n",
       "\n",
       "    .dataframe tbody tr th {\n",
       "        vertical-align: top;\n",
       "    }\n",
       "\n",
       "    .dataframe thead th {\n",
       "        text-align: right;\n",
       "    }\n",
       "</style>\n",
       "<table border=\"1\" class=\"dataframe\">\n",
       "  <thead>\n",
       "    <tr style=\"text-align: right;\">\n",
       "      <th></th>\n",
       "      <th>call_date</th>\n",
       "      <th>battalion</th>\n",
       "      <th>received_dttm</th>\n",
       "      <th>on_scene_dttm</th>\n",
       "    </tr>\n",
       "  </thead>\n",
       "  <tbody>\n",
       "    <tr>\n",
       "      <th>0</th>\n",
       "      <td>2020-03-14T00:00:00.000</td>\n",
       "      <td>B09</td>\n",
       "      <td>2020-03-14T20:12:02.000</td>\n",
       "      <td>2020-03-14T20:32:18.000</td>\n",
       "    </tr>\n",
       "    <tr>\n",
       "      <th>1</th>\n",
       "      <td>2020-03-14T00:00:00.000</td>\n",
       "      <td>B03</td>\n",
       "      <td>2020-03-14T16:35:48.000</td>\n",
       "      <td>2020-03-14T16:55:40.000</td>\n",
       "    </tr>\n",
       "    <tr>\n",
       "      <th>2</th>\n",
       "      <td>2020-03-14T00:00:00.000</td>\n",
       "      <td>B03</td>\n",
       "      <td>2020-03-14T11:53:29.000</td>\n",
       "      <td>2020-03-14T11:59:05.000</td>\n",
       "    </tr>\n",
       "    <tr>\n",
       "      <th>3</th>\n",
       "      <td>2020-03-14T00:00:00.000</td>\n",
       "      <td>B03</td>\n",
       "      <td>2020-03-14T10:40:40.000</td>\n",
       "      <td>2020-03-14T10:52:42.000</td>\n",
       "    </tr>\n",
       "    <tr>\n",
       "      <th>4</th>\n",
       "      <td>2020-03-14T00:00:00.000</td>\n",
       "      <td>B02</td>\n",
       "      <td>2020-03-14T18:29:15.000</td>\n",
       "      <td>2020-03-14T18:41:05.000</td>\n",
       "    </tr>\n",
       "  </tbody>\n",
       "</table>\n",
       "</div>"
      ],
      "text/plain": [
       "                 call_date battalion            received_dttm  \\\n",
       "0  2020-03-14T00:00:00.000       B09  2020-03-14T20:12:02.000   \n",
       "1  2020-03-14T00:00:00.000       B03  2020-03-14T16:35:48.000   \n",
       "2  2020-03-14T00:00:00.000       B03  2020-03-14T11:53:29.000   \n",
       "3  2020-03-14T00:00:00.000       B03  2020-03-14T10:40:40.000   \n",
       "4  2020-03-14T00:00:00.000       B02  2020-03-14T18:29:15.000   \n",
       "\n",
       "             on_scene_dttm  \n",
       "0  2020-03-14T20:32:18.000  \n",
       "1  2020-03-14T16:55:40.000  \n",
       "2  2020-03-14T11:59:05.000  \n",
       "3  2020-03-14T10:52:42.000  \n",
       "4  2020-03-14T18:41:05.000  "
      ]
     },
     "execution_count": 4,
     "metadata": {},
     "output_type": "execute_result"
    }
   ],
   "source": [
    "# drop rows with missing data\n",
    "refined_df = results_df.dropna(how='any')\n",
    "refined_df.head()"
   ]
  },
  {
   "cell_type": "code",
   "execution_count": 5,
   "metadata": {},
   "outputs": [
    {
     "name": "stderr",
     "output_type": "stream",
     "text": [
      "C:\\Users\\Travis Young\\anaconda3\\envs\\PythonData\\lib\\site-packages\\ipykernel_launcher.py:2: SettingWithCopyWarning: \n",
      "A value is trying to be set on a copy of a slice from a DataFrame.\n",
      "Try using .loc[row_indexer,col_indexer] = value instead\n",
      "\n",
      "See the caveats in the documentation: https://pandas.pydata.org/pandas-docs/stable/user_guide/indexing.html#returning-a-view-versus-a-copy\n",
      "  \n",
      "C:\\Users\\Travis Young\\anaconda3\\envs\\PythonData\\lib\\site-packages\\ipykernel_launcher.py:3: SettingWithCopyWarning: \n",
      "A value is trying to be set on a copy of a slice from a DataFrame.\n",
      "Try using .loc[row_indexer,col_indexer] = value instead\n",
      "\n",
      "See the caveats in the documentation: https://pandas.pydata.org/pandas-docs/stable/user_guide/indexing.html#returning-a-view-versus-a-copy\n",
      "  This is separate from the ipykernel package so we can avoid doing imports until\n",
      "C:\\Users\\Travis Young\\anaconda3\\envs\\PythonData\\lib\\site-packages\\ipykernel_launcher.py:4: SettingWithCopyWarning: \n",
      "A value is trying to be set on a copy of a slice from a DataFrame.\n",
      "Try using .loc[row_indexer,col_indexer] = value instead\n",
      "\n",
      "See the caveats in the documentation: https://pandas.pydata.org/pandas-docs/stable/user_guide/indexing.html#returning-a-view-versus-a-copy\n",
      "  after removing the cwd from sys.path.\n"
     ]
    },
    {
     "data": {
      "text/html": [
       "<div>\n",
       "<style scoped>\n",
       "    .dataframe tbody tr th:only-of-type {\n",
       "        vertical-align: middle;\n",
       "    }\n",
       "\n",
       "    .dataframe tbody tr th {\n",
       "        vertical-align: top;\n",
       "    }\n",
       "\n",
       "    .dataframe thead th {\n",
       "        text-align: right;\n",
       "    }\n",
       "</style>\n",
       "<table border=\"1\" class=\"dataframe\">\n",
       "  <thead>\n",
       "    <tr style=\"text-align: right;\">\n",
       "      <th></th>\n",
       "      <th>call_date</th>\n",
       "      <th>battalion</th>\n",
       "      <th>received_dttm</th>\n",
       "      <th>on_scene_dttm</th>\n",
       "    </tr>\n",
       "  </thead>\n",
       "  <tbody>\n",
       "    <tr>\n",
       "      <th>0</th>\n",
       "      <td>2020-03-14</td>\n",
       "      <td>B09</td>\n",
       "      <td>2020-03-14 20:12:02</td>\n",
       "      <td>2020-03-14 20:32:18</td>\n",
       "    </tr>\n",
       "    <tr>\n",
       "      <th>1</th>\n",
       "      <td>2020-03-14</td>\n",
       "      <td>B03</td>\n",
       "      <td>2020-03-14 16:35:48</td>\n",
       "      <td>2020-03-14 16:55:40</td>\n",
       "    </tr>\n",
       "    <tr>\n",
       "      <th>2</th>\n",
       "      <td>2020-03-14</td>\n",
       "      <td>B03</td>\n",
       "      <td>2020-03-14 11:53:29</td>\n",
       "      <td>2020-03-14 11:59:05</td>\n",
       "    </tr>\n",
       "    <tr>\n",
       "      <th>3</th>\n",
       "      <td>2020-03-14</td>\n",
       "      <td>B03</td>\n",
       "      <td>2020-03-14 10:40:40</td>\n",
       "      <td>2020-03-14 10:52:42</td>\n",
       "    </tr>\n",
       "    <tr>\n",
       "      <th>4</th>\n",
       "      <td>2020-03-14</td>\n",
       "      <td>B02</td>\n",
       "      <td>2020-03-14 18:29:15</td>\n",
       "      <td>2020-03-14 18:41:05</td>\n",
       "    </tr>\n",
       "  </tbody>\n",
       "</table>\n",
       "</div>"
      ],
      "text/plain": [
       "   call_date battalion       received_dttm       on_scene_dttm\n",
       "0 2020-03-14       B09 2020-03-14 20:12:02 2020-03-14 20:32:18\n",
       "1 2020-03-14       B03 2020-03-14 16:35:48 2020-03-14 16:55:40\n",
       "2 2020-03-14       B03 2020-03-14 11:53:29 2020-03-14 11:59:05\n",
       "3 2020-03-14       B03 2020-03-14 10:40:40 2020-03-14 10:52:42\n",
       "4 2020-03-14       B02 2020-03-14 18:29:15 2020-03-14 18:41:05"
      ]
     },
     "execution_count": 5,
     "metadata": {},
     "output_type": "execute_result"
    }
   ],
   "source": [
    "# Convert datatype to datetime format for call_date, received_dttm, and on_scene_dttm\n",
    "refined_df['call_date'] = pd.to_datetime(refined_df['call_date'])\n",
    "refined_df['received_dttm'] = pd.to_datetime(refined_df['received_dttm'])\n",
    "refined_df['on_scene_dttm'] = pd.to_datetime(refined_df['on_scene_dttm'])\n",
    "refined_df.head()"
   ]
  },
  {
   "cell_type": "code",
   "execution_count": 6,
   "metadata": {},
   "outputs": [
    {
     "name": "stderr",
     "output_type": "stream",
     "text": [
      "C:\\Users\\Travis Young\\anaconda3\\envs\\PythonData\\lib\\site-packages\\ipykernel_launcher.py:2: SettingWithCopyWarning: \n",
      "A value is trying to be set on a copy of a slice from a DataFrame.\n",
      "Try using .loc[row_indexer,col_indexer] = value instead\n",
      "\n",
      "See the caveats in the documentation: https://pandas.pydata.org/pandas-docs/stable/user_guide/indexing.html#returning-a-view-versus-a-copy\n",
      "  \n",
      "C:\\Users\\Travis Young\\anaconda3\\envs\\PythonData\\lib\\site-packages\\ipykernel_launcher.py:3: SettingWithCopyWarning: \n",
      "A value is trying to be set on a copy of a slice from a DataFrame.\n",
      "Try using .loc[row_indexer,col_indexer] = value instead\n",
      "\n",
      "See the caveats in the documentation: https://pandas.pydata.org/pandas-docs/stable/user_guide/indexing.html#returning-a-view-versus-a-copy\n",
      "  This is separate from the ipykernel package so we can avoid doing imports until\n"
     ]
    },
    {
     "data": {
      "text/html": [
       "<div>\n",
       "<style scoped>\n",
       "    .dataframe tbody tr th:only-of-type {\n",
       "        vertical-align: middle;\n",
       "    }\n",
       "\n",
       "    .dataframe tbody tr th {\n",
       "        vertical-align: top;\n",
       "    }\n",
       "\n",
       "    .dataframe thead th {\n",
       "        text-align: right;\n",
       "    }\n",
       "</style>\n",
       "<table border=\"1\" class=\"dataframe\">\n",
       "  <thead>\n",
       "    <tr style=\"text-align: right;\">\n",
       "      <th></th>\n",
       "      <th>call_date</th>\n",
       "      <th>battalion</th>\n",
       "      <th>received_dttm</th>\n",
       "      <th>on_scene_dttm</th>\n",
       "      <th>month</th>\n",
       "      <th>response_time</th>\n",
       "    </tr>\n",
       "  </thead>\n",
       "  <tbody>\n",
       "    <tr>\n",
       "      <th>0</th>\n",
       "      <td>2020-03-14</td>\n",
       "      <td>B09</td>\n",
       "      <td>2020-03-14 20:12:02</td>\n",
       "      <td>2020-03-14 20:32:18</td>\n",
       "      <td>2020-03</td>\n",
       "      <td>00:20:16</td>\n",
       "    </tr>\n",
       "    <tr>\n",
       "      <th>1</th>\n",
       "      <td>2020-03-14</td>\n",
       "      <td>B03</td>\n",
       "      <td>2020-03-14 16:35:48</td>\n",
       "      <td>2020-03-14 16:55:40</td>\n",
       "      <td>2020-03</td>\n",
       "      <td>00:19:52</td>\n",
       "    </tr>\n",
       "    <tr>\n",
       "      <th>2</th>\n",
       "      <td>2020-03-14</td>\n",
       "      <td>B03</td>\n",
       "      <td>2020-03-14 11:53:29</td>\n",
       "      <td>2020-03-14 11:59:05</td>\n",
       "      <td>2020-03</td>\n",
       "      <td>00:05:36</td>\n",
       "    </tr>\n",
       "    <tr>\n",
       "      <th>3</th>\n",
       "      <td>2020-03-14</td>\n",
       "      <td>B03</td>\n",
       "      <td>2020-03-14 10:40:40</td>\n",
       "      <td>2020-03-14 10:52:42</td>\n",
       "      <td>2020-03</td>\n",
       "      <td>00:12:02</td>\n",
       "    </tr>\n",
       "    <tr>\n",
       "      <th>4</th>\n",
       "      <td>2020-03-14</td>\n",
       "      <td>B02</td>\n",
       "      <td>2020-03-14 18:29:15</td>\n",
       "      <td>2020-03-14 18:41:05</td>\n",
       "      <td>2020-03</td>\n",
       "      <td>00:11:50</td>\n",
       "    </tr>\n",
       "  </tbody>\n",
       "</table>\n",
       "</div>"
      ],
      "text/plain": [
       "   call_date battalion       received_dttm       on_scene_dttm    month  \\\n",
       "0 2020-03-14       B09 2020-03-14 20:12:02 2020-03-14 20:32:18  2020-03   \n",
       "1 2020-03-14       B03 2020-03-14 16:35:48 2020-03-14 16:55:40  2020-03   \n",
       "2 2020-03-14       B03 2020-03-14 11:53:29 2020-03-14 11:59:05  2020-03   \n",
       "3 2020-03-14       B03 2020-03-14 10:40:40 2020-03-14 10:52:42  2020-03   \n",
       "4 2020-03-14       B02 2020-03-14 18:29:15 2020-03-14 18:41:05  2020-03   \n",
       "\n",
       "  response_time  \n",
       "0      00:20:16  \n",
       "1      00:19:52  \n",
       "2      00:05:36  \n",
       "3      00:12:02  \n",
       "4      00:11:50  "
      ]
     },
     "execution_count": 6,
     "metadata": {},
     "output_type": "execute_result"
    }
   ],
   "source": [
    "# establish the month and response time data series\n",
    "refined_df['month'] = refined_df['call_date'].dt.to_period('M')\n",
    "refined_df['response_time'] = refined_df['on_scene_dttm'] - refined_df['received_dttm']\n",
    "refined_df.head()"
   ]
  },
  {
   "cell_type": "code",
   "execution_count": 7,
   "metadata": {},
   "outputs": [
    {
     "data": {
      "text/html": [
       "<div>\n",
       "<style scoped>\n",
       "    .dataframe tbody tr th:only-of-type {\n",
       "        vertical-align: middle;\n",
       "    }\n",
       "\n",
       "    .dataframe tbody tr th {\n",
       "        vertical-align: top;\n",
       "    }\n",
       "\n",
       "    .dataframe thead th {\n",
       "        text-align: right;\n",
       "    }\n",
       "</style>\n",
       "<table border=\"1\" class=\"dataframe\">\n",
       "  <thead>\n",
       "    <tr style=\"text-align: right;\">\n",
       "      <th></th>\n",
       "      <th>response_time</th>\n",
       "    </tr>\n",
       "  </thead>\n",
       "  <tbody>\n",
       "    <tr>\n",
       "      <th>count</th>\n",
       "      <td>225457</td>\n",
       "    </tr>\n",
       "    <tr>\n",
       "      <th>mean</th>\n",
       "      <td>0 days 00:10:15.723716</td>\n",
       "    </tr>\n",
       "    <tr>\n",
       "      <th>std</th>\n",
       "      <td>0 days 00:22:17.334381</td>\n",
       "    </tr>\n",
       "    <tr>\n",
       "      <th>min</th>\n",
       "      <td>-1 days +08:02:52</td>\n",
       "    </tr>\n",
       "    <tr>\n",
       "      <th>25%</th>\n",
       "      <td>0 days 00:05:30</td>\n",
       "    </tr>\n",
       "    <tr>\n",
       "      <th>50%</th>\n",
       "      <td>0 days 00:07:26</td>\n",
       "    </tr>\n",
       "    <tr>\n",
       "      <th>75%</th>\n",
       "      <td>0 days 00:11:18</td>\n",
       "    </tr>\n",
       "    <tr>\n",
       "      <th>max</th>\n",
       "      <td>1 days 18:41:53</td>\n",
       "    </tr>\n",
       "  </tbody>\n",
       "</table>\n",
       "</div>"
      ],
      "text/plain": [
       "                response_time\n",
       "count                  225457\n",
       "mean   0 days 00:10:15.723716\n",
       "std    0 days 00:22:17.334381\n",
       "min         -1 days +08:02:52\n",
       "25%           0 days 00:05:30\n",
       "50%           0 days 00:07:26\n",
       "75%           0 days 00:11:18\n",
       "max           1 days 18:41:53"
      ]
     },
     "execution_count": 7,
     "metadata": {},
     "output_type": "execute_result"
    }
   ],
   "source": [
    "# Use describe to get a quick statistical summary of the data\n",
    "refined_df.describe()"
   ]
  },
  {
   "cell_type": "code",
   "execution_count": 8,
   "metadata": {},
   "outputs": [
    {
     "data": {
      "text/plain": [
       "call_date         datetime64[ns]\n",
       "battalion                 object\n",
       "received_dttm     datetime64[ns]\n",
       "on_scene_dttm     datetime64[ns]\n",
       "month                  period[M]\n",
       "response_time    timedelta64[ns]\n",
       "dtype: object"
      ]
     },
     "execution_count": 8,
     "metadata": {},
     "output_type": "execute_result"
    }
   ],
   "source": [
    "refined_df.dtypes"
   ]
  },
  {
   "cell_type": "code",
   "execution_count": 9,
   "metadata": {},
   "outputs": [
    {
     "data": {
      "text/plain": [
       "<matplotlib.axes._subplots.AxesSubplot at 0x2c0a65d6630>"
      ]
     },
     "execution_count": 9,
     "metadata": {},
     "output_type": "execute_result"
    },
    {
     "data": {
      "image/png": "[encoded data removed]",
      "text/plain": [
       "<Figure size 432x288 with 1 Axes>"
      ]
     },
     "metadata": {
      "needs_background": "light"
     },
     "output_type": "display_data"
    }
   ],
   "source": [
    "# take a look at the histogram distribution for response time\n",
    "refined_df['response_time'].astype('timedelta64[m]').plot.hist(bins=20, alpha=0.5)"
   ]
  },
  {
   "cell_type": "code",
   "execution_count": 10,
   "metadata": {},
   "outputs": [
    {
     "data": {
      "text/plain": [
       "{'whiskers': [<matplotlib.lines.Line2D at 0x2c0a6d680f0>,\n",
       "  <matplotlib.lines.Line2D at 0x2c0a6d684a8>],\n",
       " 'caps': [<matplotlib.lines.Line2D at 0x2c0a6d687f0>,\n",
       "  <matplotlib.lines.Line2D at 0x2c0a6d68b38>],\n",
       " 'boxes': [<matplotlib.lines.Line2D at 0x2c0a6cafd30>],\n",
       " 'medians': [<matplotlib.lines.Line2D at 0x2c0a6d68e80>],\n",
       " 'fliers': [<matplotlib.lines.Line2D at 0x2c0a6d7f208>],\n",
       " 'means': []}"
      ]
     },
     "execution_count": 10,
     "metadata": {},
     "output_type": "execute_result"
    },
    {
     "data": {
      "image/png": "[encoded data removed]",
      "text/plain": [
       "<Figure size 432x288 with 1 Axes>"
      ]
     },
     "metadata": {
      "needs_background": "light"
     },
     "output_type": "display_data"
    }
   ],
   "source": [
    "# Have a look at the box plot to assess the data for outliers\n",
    "import matplotlib.pyplot as plt\n",
    "plt.boxplot(refined_df['response_time'].astype('timedelta64[m]'))"
   ]
  },
  {
   "cell_type": "markdown",
   "metadata": {},
   "source": [
    "For this example, the majority of calls have a response time of pretty close to zero minutes as shown by the histogram.  All negative response time data should be removed as it is does not make logical sense to have a response time of less than 0.  The box plot reveals a lot of outliers in the data on the long response time side of the data.  Where most of the data falls within 3 standard deviations of the mean, 77 minutes on the day I ran the analysis, I am going to compare the data using and upper limit of +3 std dev from the mean to an upper limit of 24 hours (1,440 minutes or 86,400 seconds) because the box plot shows a number of values outside the quartile range.  "
   ]
  },
  {
   "cell_type": "markdown",
   "metadata": {},
   "source": [
    "### Data using a range of 1 second to 3 standard deviations above the mean"
   ]
  },
  {
   "cell_type": "code",
   "execution_count": 11,
   "metadata": {},
   "outputs": [],
   "source": [
    "# import numpy to find mean and standard deviation for response_time\n",
    "import numpy as np"
   ]
  },
  {
   "cell_type": "code",
   "execution_count": 12,
   "metadata": {},
   "outputs": [
    {
     "name": "stdout",
     "output_type": "stream",
     "text": [
      "0 days 00:10:15.723716\n"
     ]
    },
    {
     "data": {
      "text/plain": [
       "Timedelta('0 days 00:22:17.331415')"
      ]
     },
     "execution_count": 12,
     "metadata": {},
     "output_type": "execute_result"
    }
   ],
   "source": [
    "# find the mean and standard deviation for the refined dataset\n",
    "mean = np.mean(refined_df['response_time'])\n",
    "print(mean)\n",
    "stdDev = np.std(refined_df['response_time'])\n",
    "stdDev"
   ]
  },
  {
   "cell_type": "code",
   "execution_count": 13,
   "metadata": {},
   "outputs": [
    {
     "data": {
      "text/html": [
       "<div>\n",
       "<style scoped>\n",
       "    .dataframe tbody tr th:only-of-type {\n",
       "        vertical-align: middle;\n",
       "    }\n",
       "\n",
       "    .dataframe tbody tr th {\n",
       "        vertical-align: top;\n",
       "    }\n",
       "\n",
       "    .dataframe thead th {\n",
       "        text-align: right;\n",
       "    }\n",
       "</style>\n",
       "<table border=\"1\" class=\"dataframe\">\n",
       "  <thead>\n",
       "    <tr style=\"text-align: right;\">\n",
       "      <th></th>\n",
       "      <th>call_date</th>\n",
       "      <th>battalion</th>\n",
       "      <th>received_dttm</th>\n",
       "      <th>on_scene_dttm</th>\n",
       "      <th>month</th>\n",
       "      <th>response_time</th>\n",
       "    </tr>\n",
       "  </thead>\n",
       "  <tbody>\n",
       "    <tr>\n",
       "      <th>0</th>\n",
       "      <td>2020-03-14</td>\n",
       "      <td>B09</td>\n",
       "      <td>2020-03-14 20:12:02</td>\n",
       "      <td>2020-03-14 20:32:18</td>\n",
       "      <td>2020-03</td>\n",
       "      <td>00:20:16</td>\n",
       "    </tr>\n",
       "    <tr>\n",
       "      <th>1</th>\n",
       "      <td>2020-03-14</td>\n",
       "      <td>B03</td>\n",
       "      <td>2020-03-14 16:35:48</td>\n",
       "      <td>2020-03-14 16:55:40</td>\n",
       "      <td>2020-03</td>\n",
       "      <td>00:19:52</td>\n",
       "    </tr>\n",
       "    <tr>\n",
       "      <th>2</th>\n",
       "      <td>2020-03-14</td>\n",
       "      <td>B03</td>\n",
       "      <td>2020-03-14 11:53:29</td>\n",
       "      <td>2020-03-14 11:59:05</td>\n",
       "      <td>2020-03</td>\n",
       "      <td>00:05:36</td>\n",
       "    </tr>\n",
       "    <tr>\n",
       "      <th>3</th>\n",
       "      <td>2020-03-14</td>\n",
       "      <td>B03</td>\n",
       "      <td>2020-03-14 10:40:40</td>\n",
       "      <td>2020-03-14 10:52:42</td>\n",
       "      <td>2020-03</td>\n",
       "      <td>00:12:02</td>\n",
       "    </tr>\n",
       "    <tr>\n",
       "      <th>4</th>\n",
       "      <td>2020-03-14</td>\n",
       "      <td>B02</td>\n",
       "      <td>2020-03-14 18:29:15</td>\n",
       "      <td>2020-03-14 18:41:05</td>\n",
       "      <td>2020-03</td>\n",
       "      <td>00:11:50</td>\n",
       "    </tr>\n",
       "  </tbody>\n",
       "</table>\n",
       "</div>"
      ],
      "text/plain": [
       "   call_date battalion       received_dttm       on_scene_dttm    month  \\\n",
       "0 2020-03-14       B09 2020-03-14 20:12:02 2020-03-14 20:32:18  2020-03   \n",
       "1 2020-03-14       B03 2020-03-14 16:35:48 2020-03-14 16:55:40  2020-03   \n",
       "2 2020-03-14       B03 2020-03-14 11:53:29 2020-03-14 11:59:05  2020-03   \n",
       "3 2020-03-14       B03 2020-03-14 10:40:40 2020-03-14 10:52:42  2020-03   \n",
       "4 2020-03-14       B02 2020-03-14 18:29:15 2020-03-14 18:41:05  2020-03   \n",
       "\n",
       "  response_time  \n",
       "0      00:20:16  \n",
       "1      00:19:52  \n",
       "2      00:05:36  \n",
       "3      00:12:02  \n",
       "4      00:11:50  "
      ]
     },
     "execution_count": 13,
     "metadata": {},
     "output_type": "execute_result"
    }
   ],
   "source": [
    "# reduce data to response times of at least 1 second up to 3 standard deviations longer than the mean response time\n",
    "response_df = refined_df[refined_df['response_time'] >= pd.Timedelta(1, 's')]\n",
    "response_df = response_df[response_df['response_time'] <= pd.Timedelta(1, 'd')]\n",
    "response_df = response_df[response_df['response_time'] <= pd.Timedelta((3*stdDev+mean), 's')]\n",
    "response_df.head()"
   ]
  },
  {
   "cell_type": "code",
   "execution_count": 14,
   "metadata": {},
   "outputs": [
    {
     "data": {
      "text/html": [
       "<div>\n",
       "<style scoped>\n",
       "    .dataframe tbody tr th:only-of-type {\n",
       "        vertical-align: middle;\n",
       "    }\n",
       "\n",
       "    .dataframe tbody tr th {\n",
       "        vertical-align: top;\n",
       "    }\n",
       "\n",
       "    .dataframe thead th {\n",
       "        text-align: right;\n",
       "    }\n",
       "</style>\n",
       "<table border=\"1\" class=\"dataframe\">\n",
       "  <thead>\n",
       "    <tr style=\"text-align: right;\">\n",
       "      <th></th>\n",
       "      <th>response_time</th>\n",
       "    </tr>\n",
       "  </thead>\n",
       "  <tbody>\n",
       "    <tr>\n",
       "      <th>count</th>\n",
       "      <td>222319</td>\n",
       "    </tr>\n",
       "    <tr>\n",
       "      <th>mean</th>\n",
       "      <td>0 days 00:09:41.669483</td>\n",
       "    </tr>\n",
       "    <tr>\n",
       "      <th>std</th>\n",
       "      <td>0 days 00:07:03.593206</td>\n",
       "    </tr>\n",
       "    <tr>\n",
       "      <th>min</th>\n",
       "      <td>0 days 00:00:02</td>\n",
       "    </tr>\n",
       "    <tr>\n",
       "      <th>25%</th>\n",
       "      <td>0 days 00:05:33</td>\n",
       "    </tr>\n",
       "    <tr>\n",
       "      <th>50%</th>\n",
       "      <td>0 days 00:07:28</td>\n",
       "    </tr>\n",
       "    <tr>\n",
       "      <th>75%</th>\n",
       "      <td>0 days 00:11:19</td>\n",
       "    </tr>\n",
       "    <tr>\n",
       "      <th>max</th>\n",
       "      <td>0 days 01:17:07</td>\n",
       "    </tr>\n",
       "  </tbody>\n",
       "</table>\n",
       "</div>"
      ],
      "text/plain": [
       "                response_time\n",
       "count                  222319\n",
       "mean   0 days 00:09:41.669483\n",
       "std    0 days 00:07:03.593206\n",
       "min           0 days 00:00:02\n",
       "25%           0 days 00:05:33\n",
       "50%           0 days 00:07:28\n",
       "75%           0 days 00:11:19\n",
       "max           0 days 01:17:07"
      ]
     },
     "execution_count": 14,
     "metadata": {},
     "output_type": "execute_result"
    }
   ],
   "source": [
    "# statistical summary\n",
    "response_df.describe()"
   ]
  },
  {
   "cell_type": "code",
   "execution_count": 15,
   "metadata": {},
   "outputs": [
    {
     "data": {
      "text/plain": [
       "<matplotlib.axes._subplots.AxesSubplot at 0x2c0a6e2f9e8>"
      ]
     },
     "execution_count": 15,
     "metadata": {},
     "output_type": "execute_result"
    },
    {
     "data": {
      "image/png": "[encoded data removed]",
      "text/plain": [
       "<Figure size 432x288 with 1 Axes>"
      ]
     },
     "metadata": {
      "needs_background": "light"
     },
     "output_type": "display_data"
    }
   ],
   "source": [
    "# take a look at the time distribution for response time\n",
    "response_df['response_time'].astype('timedelta64[m]').plot.hist(bins=20, alpha=0.5)"
   ]
  },
  {
   "cell_type": "code",
   "execution_count": 16,
   "metadata": {},
   "outputs": [
    {
     "data": {
      "text/plain": [
       "{'whiskers': [<matplotlib.lines.Line2D at 0x2c0a73789b0>,\n",
       "  <matplotlib.lines.Line2D at 0x2c0a7378d68>],\n",
       " 'caps': [<matplotlib.lines.Line2D at 0x2c0a73da0f0>,\n",
       "  <matplotlib.lines.Line2D at 0x2c0a73da438>],\n",
       " 'boxes': [<matplotlib.lines.Line2D at 0x2c0a7378860>],\n",
       " 'medians': [<matplotlib.lines.Line2D at 0x2c0a73da780>],\n",
       " 'fliers': [<matplotlib.lines.Line2D at 0x2c0a73daac8>],\n",
       " 'means': []}"
      ]
     },
     "execution_count": 16,
     "metadata": {},
     "output_type": "execute_result"
    },
    {
     "data": {
      "image/png": "[encoded data removed]",
      "text/plain": [
       "<Figure size 432x288 with 1 Axes>"
      ]
     },
     "metadata": {
      "needs_background": "light"
     },
     "output_type": "display_data"
    }
   ],
   "source": [
    "# assess boxplot for outliers\n",
    "plt.boxplot(response_df['response_time'].astype('timedelta64[m]'))"
   ]
  },
  {
   "cell_type": "markdown",
   "metadata": {},
   "source": [
    "### Data using range of 1 second to 86,400 seconds (24 hours)"
   ]
  },
  {
   "cell_type": "code",
   "execution_count": 17,
   "metadata": {},
   "outputs": [
    {
     "data": {
      "text/html": [
       "<div>\n",
       "<style scoped>\n",
       "    .dataframe tbody tr th:only-of-type {\n",
       "        vertical-align: middle;\n",
       "    }\n",
       "\n",
       "    .dataframe tbody tr th {\n",
       "        vertical-align: top;\n",
       "    }\n",
       "\n",
       "    .dataframe thead th {\n",
       "        text-align: right;\n",
       "    }\n",
       "</style>\n",
       "<table border=\"1\" class=\"dataframe\">\n",
       "  <thead>\n",
       "    <tr style=\"text-align: right;\">\n",
       "      <th></th>\n",
       "      <th>call_date</th>\n",
       "      <th>battalion</th>\n",
       "      <th>received_dttm</th>\n",
       "      <th>on_scene_dttm</th>\n",
       "      <th>month</th>\n",
       "      <th>response_time</th>\n",
       "    </tr>\n",
       "  </thead>\n",
       "  <tbody>\n",
       "    <tr>\n",
       "      <th>0</th>\n",
       "      <td>2020-03-14</td>\n",
       "      <td>B09</td>\n",
       "      <td>2020-03-14 20:12:02</td>\n",
       "      <td>2020-03-14 20:32:18</td>\n",
       "      <td>2020-03</td>\n",
       "      <td>00:20:16</td>\n",
       "    </tr>\n",
       "    <tr>\n",
       "      <th>1</th>\n",
       "      <td>2020-03-14</td>\n",
       "      <td>B03</td>\n",
       "      <td>2020-03-14 16:35:48</td>\n",
       "      <td>2020-03-14 16:55:40</td>\n",
       "      <td>2020-03</td>\n",
       "      <td>00:19:52</td>\n",
       "    </tr>\n",
       "    <tr>\n",
       "      <th>2</th>\n",
       "      <td>2020-03-14</td>\n",
       "      <td>B03</td>\n",
       "      <td>2020-03-14 11:53:29</td>\n",
       "      <td>2020-03-14 11:59:05</td>\n",
       "      <td>2020-03</td>\n",
       "      <td>00:05:36</td>\n",
       "    </tr>\n",
       "    <tr>\n",
       "      <th>3</th>\n",
       "      <td>2020-03-14</td>\n",
       "      <td>B03</td>\n",
       "      <td>2020-03-14 10:40:40</td>\n",
       "      <td>2020-03-14 10:52:42</td>\n",
       "      <td>2020-03</td>\n",
       "      <td>00:12:02</td>\n",
       "    </tr>\n",
       "    <tr>\n",
       "      <th>4</th>\n",
       "      <td>2020-03-14</td>\n",
       "      <td>B02</td>\n",
       "      <td>2020-03-14 18:29:15</td>\n",
       "      <td>2020-03-14 18:41:05</td>\n",
       "      <td>2020-03</td>\n",
       "      <td>00:11:50</td>\n",
       "    </tr>\n",
       "  </tbody>\n",
       "</table>\n",
       "</div>"
      ],
      "text/plain": [
       "   call_date battalion       received_dttm       on_scene_dttm    month  \\\n",
       "0 2020-03-14       B09 2020-03-14 20:12:02 2020-03-14 20:32:18  2020-03   \n",
       "1 2020-03-14       B03 2020-03-14 16:35:48 2020-03-14 16:55:40  2020-03   \n",
       "2 2020-03-14       B03 2020-03-14 11:53:29 2020-03-14 11:59:05  2020-03   \n",
       "3 2020-03-14       B03 2020-03-14 10:40:40 2020-03-14 10:52:42  2020-03   \n",
       "4 2020-03-14       B02 2020-03-14 18:29:15 2020-03-14 18:41:05  2020-03   \n",
       "\n",
       "  response_time  \n",
       "0      00:20:16  \n",
       "1      00:19:52  \n",
       "2      00:05:36  \n",
       "3      00:12:02  \n",
       "4      00:11:50  "
      ]
     },
     "execution_count": 17,
     "metadata": {},
     "output_type": "execute_result"
    }
   ],
   "source": [
    "# reduce data to response times of at least 1 second up to 1440 minutes\n",
    "response2_df = refined_df[refined_df['response_time'] >= pd.Timedelta(1, 's')]\n",
    "response2_df = response2_df[response2_df['response_time'] <= pd.Timedelta(1, 'd')]\n",
    "response2_df = response2_df[response2_df['response_time'] <= pd.Timedelta(86400, 's')]\n",
    "response2_df.head()"
   ]
  },
  {
   "cell_type": "code",
   "execution_count": 18,
   "metadata": {},
   "outputs": [
    {
     "data": {
      "text/html": [
       "<div>\n",
       "<style scoped>\n",
       "    .dataframe tbody tr th:only-of-type {\n",
       "        vertical-align: middle;\n",
       "    }\n",
       "\n",
       "    .dataframe tbody tr th {\n",
       "        vertical-align: top;\n",
       "    }\n",
       "\n",
       "    .dataframe thead th {\n",
       "        text-align: right;\n",
       "    }\n",
       "</style>\n",
       "<table border=\"1\" class=\"dataframe\">\n",
       "  <thead>\n",
       "    <tr style=\"text-align: right;\">\n",
       "      <th></th>\n",
       "      <th>response_time</th>\n",
       "    </tr>\n",
       "  </thead>\n",
       "  <tbody>\n",
       "    <tr>\n",
       "      <th>count</th>\n",
       "      <td>222932</td>\n",
       "    </tr>\n",
       "    <tr>\n",
       "      <th>mean</th>\n",
       "      <td>0 days 00:10:19.755508</td>\n",
       "    </tr>\n",
       "    <tr>\n",
       "      <th>std</th>\n",
       "      <td>0 days 00:18:59.422953</td>\n",
       "    </tr>\n",
       "    <tr>\n",
       "      <th>min</th>\n",
       "      <td>0 days 00:00:02</td>\n",
       "    </tr>\n",
       "    <tr>\n",
       "      <th>25%</th>\n",
       "      <td>0 days 00:05:33</td>\n",
       "    </tr>\n",
       "    <tr>\n",
       "      <th>50%</th>\n",
       "      <td>0 days 00:07:29</td>\n",
       "    </tr>\n",
       "    <tr>\n",
       "      <th>75%</th>\n",
       "      <td>0 days 00:11:23</td>\n",
       "    </tr>\n",
       "    <tr>\n",
       "      <th>max</th>\n",
       "      <td>0 days 23:54:49</td>\n",
       "    </tr>\n",
       "  </tbody>\n",
       "</table>\n",
       "</div>"
      ],
      "text/plain": [
       "                response_time\n",
       "count                  222932\n",
       "mean   0 days 00:10:19.755508\n",
       "std    0 days 00:18:59.422953\n",
       "min           0 days 00:00:02\n",
       "25%           0 days 00:05:33\n",
       "50%           0 days 00:07:29\n",
       "75%           0 days 00:11:23\n",
       "max           0 days 23:54:49"
      ]
     },
     "execution_count": 18,
     "metadata": {},
     "output_type": "execute_result"
    }
   ],
   "source": [
    "# statistical summary\n",
    "response2_df.describe()"
   ]
  },
  {
   "cell_type": "code",
   "execution_count": 19,
   "metadata": {},
   "outputs": [
    {
     "data": {
      "text/plain": [
       "<matplotlib.axes._subplots.AxesSubplot at 0x2c0a745a828>"
      ]
     },
     "execution_count": 19,
     "metadata": {},
     "output_type": "execute_result"
    },
    {
     "data": {
      "image/png": "[encoded data removed]",
      "text/plain": [
       "<Figure size 720x576 with 1 Axes>"
      ]
     },
     "metadata": {
      "needs_background": "light"
     },
     "output_type": "display_data"
    }
   ],
   "source": [
    "# take a look at the time distribution for response time\n",
    "response2_df['response_time'].astype('timedelta64[m]').plot.hist(bins=20, alpha=0.5, figsize=(10, 8))"
   ]
  },
  {
   "cell_type": "code",
   "execution_count": 20,
   "metadata": {},
   "outputs": [
    {
     "data": {
      "text/plain": [
       "{'whiskers': [<matplotlib.lines.Line2D at 0x2c0a7994390>,\n",
       "  <matplotlib.lines.Line2D at 0x2c0a7994748>],\n",
       " 'caps': [<matplotlib.lines.Line2D at 0x2c0a7994a90>,\n",
       "  <matplotlib.lines.Line2D at 0x2c0a7994dd8>],\n",
       " 'boxes': [<matplotlib.lines.Line2D at 0x2c0a7994240>],\n",
       " 'medians': [<matplotlib.lines.Line2D at 0x2c0a79b5160>],\n",
       " 'fliers': [<matplotlib.lines.Line2D at 0x2c0a79b54a8>],\n",
       " 'means': []}"
      ]
     },
     "execution_count": 20,
     "metadata": {},
     "output_type": "execute_result"
    },
    {
     "data": {
      "image/png": "[encoded data removed]",
      "text/plain": [
       "<Figure size 720x720 with 1 Axes>"
      ]
     },
     "metadata": {
      "needs_background": "light"
     },
     "output_type": "display_data"
    }
   ],
   "source": [
    "# assess boxplot for outliers\n",
    "plt.figure(figsize=(10, 10))\n",
    "plt.boxplot(response2_df['response_time'].astype('timedelta64[m]'))"
   ]
  },
  {
   "cell_type": "markdown",
   "metadata": {},
   "source": [
    "Looking at the boxplots for the two data ranges, I am choosing to move forward with the dataset ranging from 1 second to 24 hours.  There are too many datapoints beyond the quantile ranges to omit while retaining the data integrity.  Without understand the dataset better or what can explain the skew in response times I feel it best to maintain the larger dataset.  "
   ]
  },
  {
   "cell_type": "markdown",
   "metadata": {},
   "source": [
    "## Preparing the CSV table for the 90th percentile of call response times"
   ]
  },
  {
   "cell_type": "code",
   "execution_count": 21,
   "metadata": {},
   "outputs": [],
   "source": [
    "# Format the response time data for analysis using groupby\n",
    "grouping_df = response2_df.copy()\n",
    "grouping_df[\"response_time\"] = grouping_df.loc[:, \"response_time\"].astype('timedelta64[s]')\n",
    "\n",
    "# Group data by month and battalion\n",
    "gb = grouping_df.groupby(['month', 'battalion'])\n",
    "# gb['response_time'].mean()"
   ]
  },
  {
   "cell_type": "code",
   "execution_count": 22,
   "metadata": {
    "scrolled": true
   },
   "outputs": [
    {
     "data": {
      "text/html": [
       "<div>\n",
       "<style scoped>\n",
       "    .dataframe tbody tr th:only-of-type {\n",
       "        vertical-align: middle;\n",
       "    }\n",
       "\n",
       "    .dataframe tbody tr th {\n",
       "        vertical-align: top;\n",
       "    }\n",
       "\n",
       "    .dataframe thead th {\n",
       "        text-align: right;\n",
       "    }\n",
       "</style>\n",
       "<table border=\"1\" class=\"dataframe\">\n",
       "  <thead>\n",
       "    <tr style=\"text-align: right;\">\n",
       "      <th></th>\n",
       "      <th>month</th>\n",
       "      <th>battalion</th>\n",
       "      <th>response_time</th>\n",
       "    </tr>\n",
       "  </thead>\n",
       "  <tbody>\n",
       "    <tr>\n",
       "      <th>0</th>\n",
       "      <td>2020-03</td>\n",
       "      <td>B01</td>\n",
       "      <td>980.0</td>\n",
       "    </tr>\n",
       "    <tr>\n",
       "      <th>1</th>\n",
       "      <td>2020-03</td>\n",
       "      <td>B02</td>\n",
       "      <td>939.8</td>\n",
       "    </tr>\n",
       "    <tr>\n",
       "      <th>2</th>\n",
       "      <td>2020-03</td>\n",
       "      <td>B03</td>\n",
       "      <td>1088.2</td>\n",
       "    </tr>\n",
       "    <tr>\n",
       "      <th>3</th>\n",
       "      <td>2020-03</td>\n",
       "      <td>B04</td>\n",
       "      <td>902.8</td>\n",
       "    </tr>\n",
       "    <tr>\n",
       "      <th>4</th>\n",
       "      <td>2020-03</td>\n",
       "      <td>B05</td>\n",
       "      <td>993.8</td>\n",
       "    </tr>\n",
       "  </tbody>\n",
       "</table>\n",
       "</div>"
      ],
      "text/plain": [
       "     month battalion  response_time\n",
       "0  2020-03       B01          980.0\n",
       "1  2020-03       B02          939.8\n",
       "2  2020-03       B03         1088.2\n",
       "3  2020-03       B04          902.8\n",
       "4  2020-03       B05          993.8"
      ]
     },
     "execution_count": 22,
     "metadata": {},
     "output_type": "execute_result"
    }
   ],
   "source": [
    "# Create new dataframe using grouped object\n",
    "Response_Time_df = gb['response_time'].quantile(0.9).reset_index()\n",
    "Response_Time_df.head()"
   ]
  },
  {
   "cell_type": "code",
   "execution_count": 23,
   "metadata": {},
   "outputs": [],
   "source": [
    "# Round response time to nearest tenth\n",
    "Response_Time_df['response_time'] = round(Response_Time_df['response_time'], 1)"
   ]
  },
  {
   "cell_type": "code",
   "execution_count": 24,
   "metadata": {},
   "outputs": [
    {
     "data": {
      "text/html": [
       "<div>\n",
       "<style scoped>\n",
       "    .dataframe tbody tr th:only-of-type {\n",
       "        vertical-align: middle;\n",
       "    }\n",
       "\n",
       "    .dataframe tbody tr th {\n",
       "        vertical-align: top;\n",
       "    }\n",
       "\n",
       "    .dataframe thead th {\n",
       "        text-align: right;\n",
       "    }\n",
       "</style>\n",
       "<table border=\"1\" class=\"dataframe\">\n",
       "  <thead>\n",
       "    <tr style=\"text-align: right;\">\n",
       "      <th></th>\n",
       "      <th>response_time</th>\n",
       "    </tr>\n",
       "  </thead>\n",
       "  <tbody>\n",
       "    <tr>\n",
       "      <th>count</th>\n",
       "      <td>144.000000</td>\n",
       "    </tr>\n",
       "    <tr>\n",
       "      <th>mean</th>\n",
       "      <td>1096.176389</td>\n",
       "    </tr>\n",
       "    <tr>\n",
       "      <th>std</th>\n",
       "      <td>165.796706</td>\n",
       "    </tr>\n",
       "    <tr>\n",
       "      <th>min</th>\n",
       "      <td>805.500000</td>\n",
       "    </tr>\n",
       "    <tr>\n",
       "      <th>25%</th>\n",
       "      <td>998.150000</td>\n",
       "    </tr>\n",
       "    <tr>\n",
       "      <th>50%</th>\n",
       "      <td>1093.100000</td>\n",
       "    </tr>\n",
       "    <tr>\n",
       "      <th>75%</th>\n",
       "      <td>1148.850000</td>\n",
       "    </tr>\n",
       "    <tr>\n",
       "      <th>max</th>\n",
       "      <td>2542.000000</td>\n",
       "    </tr>\n",
       "  </tbody>\n",
       "</table>\n",
       "</div>"
      ],
      "text/plain": [
       "       response_time\n",
       "count     144.000000\n",
       "mean     1096.176389\n",
       "std       165.796706\n",
       "min       805.500000\n",
       "25%       998.150000\n",
       "50%      1093.100000\n",
       "75%      1148.850000\n",
       "max      2542.000000"
      ]
     },
     "execution_count": 24,
     "metadata": {},
     "output_type": "execute_result"
    }
   ],
   "source": [
    "# statistical summary\n",
    "Response_Time_df.describe()"
   ]
  },
  {
   "cell_type": "code",
   "execution_count": 25,
   "metadata": {},
   "outputs": [
    {
     "data": {
      "text/plain": [
       "<matplotlib.axes._subplots.AxesSubplot at 0x2c0a7b01a20>"
      ]
     },
     "execution_count": 25,
     "metadata": {},
     "output_type": "execute_result"
    },
    {
     "data": {
      "image/png": "[encoded data removed]",
      "text/plain": [
       "<Figure size 576x432 with 1 Axes>"
      ]
     },
     "metadata": {
      "needs_background": "light"
     },
     "output_type": "display_data"
    }
   ],
   "source": [
    "# histogram\n",
    "Response_Time_df['response_time'].plot.hist(bins=15, alpha=0.5, figsize=(8, 6))"
   ]
  },
  {
   "cell_type": "code",
   "execution_count": 26,
   "metadata": {},
   "outputs": [
    {
     "data": {
      "text/plain": [
       "{'whiskers': [<matplotlib.lines.Line2D at 0x2c0a7ebe828>,\n",
       "  <matplotlib.lines.Line2D at 0x2c0a7ebeb70>],\n",
       " 'caps': [<matplotlib.lines.Line2D at 0x2c0a7ebeeb8>,\n",
       "  <matplotlib.lines.Line2D at 0x2c0a7fa1240>],\n",
       " 'boxes': [<matplotlib.lines.Line2D at 0x2c0a7ebe518>],\n",
       " 'medians': [<matplotlib.lines.Line2D at 0x2c0a7fa1588>],\n",
       " 'fliers': [<matplotlib.lines.Line2D at 0x2c0a7fa18d0>],\n",
       " 'means': []}"
      ]
     },
     "execution_count": 26,
     "metadata": {},
     "output_type": "execute_result"
    },
    {
     "data": {
      "image/png": "[encoded data removed]",
      "text/plain": [
       "<Figure size 432x432 with 1 Axes>"
      ]
     },
     "metadata": {
      "needs_background": "light"
     },
     "output_type": "display_data"
    }
   ],
   "source": [
    "# boxplot\n",
    "plt.figure(figsize=(6, 6))\n",
    "plt.boxplot(Response_Time_df['response_time'])"
   ]
  },
  {
   "cell_type": "code",
   "execution_count": 27,
   "metadata": {},
   "outputs": [],
   "source": [
    "Response_Time_df = Response_Time_df.rename(columns={'month':'Month', \n",
    "                                                    'battalion':'Battalion', \n",
    "                                                    'response_time':'90th Percentile Response Time (s)'})"
   ]
  },
  {
   "cell_type": "code",
   "execution_count": 28,
   "metadata": {},
   "outputs": [],
   "source": [
    "# Export the dataframe to a csv file named \"SFFD_ResponseTime.csv\"\n",
    "Response_Time_df.to_csv(\"SFFD_ResponseTime.csv\", encoding='utf-8', index=False)"
   ]
  },
  {
   "cell_type": "code",
   "execution_count": null,
   "metadata": {},
   "outputs": [],
   "source": []
  }
 ],
 "metadata": {
  "kernelspec": {
   "display_name": "Python [conda env:PythonData] *",
   "language": "python",
   "name": "conda-env-PythonData-py"
  },
  "language_info": {
   "codemirror_mode": {
    "name": "ipython",
    "version": 3
   },
   "file_extension": ".py",
   "mimetype": "text/x-python",
   "name": "python",
   "nbconvert_exporter": "python",
   "pygments_lexer": "ipython3",
   "version": "3.6.10"
  }
 },
 "nbformat": 4,
 "nbformat_minor": 4
}
