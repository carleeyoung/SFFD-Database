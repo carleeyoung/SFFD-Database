{
 "cells": [
  {
   "cell_type": "markdown",
   "metadata": {},
   "source": [
    "# San Francisco Fire Department Battalion Response Times"
   ]
  },
  {
   "cell_type": "code",
   "execution_count": 1,
   "metadata": {},
   "outputs": [
    {
     "name": "stderr",
     "output_type": "stream",
     "text": [
      "WARNING:root:Requests made without an app_token will be subject to strict throttling limits.\n"
     ]
    }
   ],
   "source": [
    "# from the https://dev.socrata.com/foundry/data.sfgov.org/nuek-vuh3 Code Snippets for obtaining API data\n",
    "#!/usr/bin/env python\n",
    "\n",
    "# make sure to install these packages before running:\n",
    "# pip install pandas\n",
    "# pip install sodapy\n",
    "\n",
    "import pandas as pd\n",
    "from sodapy import Socrata\n",
    "import datetime as dt\n",
    "\n",
    "# Unauthenticated client only works with public data sets. Note 'None'\n",
    "# in place of application token, and no username or password:\n",
    "client = Socrata(\"data.sfgov.org\", None)\n",
    "\n",
    "# Establish timestamp for 1 year ago from today's date and format to YYYY-MM-DD\n",
    "date = dt.datetime.now() - dt.timedelta(days=365)\n",
    "year_ago = date.strftime(\"%Y-%m-%d\")\n",
    "\n",
    "# Query JSON API for last 12 months data, selecting only pertinent data columns for analysis, organizing by date\n",
    "results = client.get_all(\"nuek-vuh3\",\n",
    "                         where=f\"call_date > '{year_ago}T00:00:00.000'\",\n",
    "                         select=\"call_date, battalion, received_dttm, on_scene_dttm\",\n",
    "                         order=\"call_date ASC\")\n",
    "\n",
    "# Convert to pandas DataFrame\n",
    "results_df = pd.DataFrame.from_records(results)"
   ]
  },
  {
   "cell_type": "code",
   "execution_count": 2,
   "metadata": {},
   "outputs": [
    {
     "data": {
      "text/html": [
       "<div>\n",
       "<style scoped>\n",
       "    .dataframe tbody tr th:only-of-type {\n",
       "        vertical-align: middle;\n",
       "    }\n",
       "\n",
       "    .dataframe tbody tr th {\n",
       "        vertical-align: top;\n",
       "    }\n",
       "\n",
       "    .dataframe thead th {\n",
       "        text-align: right;\n",
       "    }\n",
       "</style>\n",
       "<table border=\"1\" class=\"dataframe\">\n",
       "  <thead>\n",
       "    <tr style=\"text-align: right;\">\n",
       "      <th></th>\n",
       "      <th>call_date</th>\n",
       "      <th>battalion</th>\n",
       "      <th>received_dttm</th>\n",
       "      <th>on_scene_dttm</th>\n",
       "    </tr>\n",
       "  </thead>\n",
       "  <tbody>\n",
       "    <tr>\n",
       "      <th>0</th>\n",
       "      <td>2020-03-13T00:00:00.000</td>\n",
       "      <td>B06</td>\n",
       "      <td>2020-03-13T16:18:10.000</td>\n",
       "      <td>NaN</td>\n",
       "    </tr>\n",
       "    <tr>\n",
       "      <th>1</th>\n",
       "      <td>2020-03-13T00:00:00.000</td>\n",
       "      <td>B07</td>\n",
       "      <td>2020-03-13T16:20:26.000</td>\n",
       "      <td>2020-03-13T16:28:25.000</td>\n",
       "    </tr>\n",
       "    <tr>\n",
       "      <th>2</th>\n",
       "      <td>2020-03-13T00:00:00.000</td>\n",
       "      <td>B09</td>\n",
       "      <td>2020-03-13T00:32:53.000</td>\n",
       "      <td>2020-03-13T00:37:43.000</td>\n",
       "    </tr>\n",
       "    <tr>\n",
       "      <th>3</th>\n",
       "      <td>2020-03-13T00:00:00.000</td>\n",
       "      <td>B05</td>\n",
       "      <td>2020-03-13T17:00:20.000</td>\n",
       "      <td>2020-03-13T17:11:39.000</td>\n",
       "    </tr>\n",
       "    <tr>\n",
       "      <th>4</th>\n",
       "      <td>2020-03-13T00:00:00.000</td>\n",
       "      <td>B10</td>\n",
       "      <td>2020-03-13T10:11:24.000</td>\n",
       "      <td>NaN</td>\n",
       "    </tr>\n",
       "  </tbody>\n",
       "</table>\n",
       "</div>"
      ],
      "text/plain": [
       "                 call_date battalion            received_dttm  \\\n",
       "0  2020-03-13T00:00:00.000       B06  2020-03-13T16:18:10.000   \n",
       "1  2020-03-13T00:00:00.000       B07  2020-03-13T16:20:26.000   \n",
       "2  2020-03-13T00:00:00.000       B09  2020-03-13T00:32:53.000   \n",
       "3  2020-03-13T00:00:00.000       B05  2020-03-13T17:00:20.000   \n",
       "4  2020-03-13T00:00:00.000       B10  2020-03-13T10:11:24.000   \n",
       "\n",
       "             on_scene_dttm  \n",
       "0                      NaN  \n",
       "1  2020-03-13T16:28:25.000  \n",
       "2  2020-03-13T00:37:43.000  \n",
       "3  2020-03-13T17:11:39.000  \n",
       "4                      NaN  "
      ]
     },
     "execution_count": 2,
     "metadata": {},
     "output_type": "execute_result"
    }
   ],
   "source": [
    "# view results dataframe head\n",
    "results_df.head()"
   ]
  },
  {
   "cell_type": "code",
   "execution_count": 3,
   "metadata": {},
   "outputs": [
    {
     "data": {
      "text/plain": [
       "call_date        object\n",
       "battalion        object\n",
       "received_dttm    object\n",
       "on_scene_dttm    object\n",
       "dtype: object"
      ]
     },
     "execution_count": 3,
     "metadata": {},
     "output_type": "execute_result"
    }
   ],
   "source": [
    "# evaluate column data types\n",
    "results_df.dtypes"
   ]
  },
  {
   "cell_type": "code",
   "execution_count": 4,
   "metadata": {},
   "outputs": [
    {
     "data": {
      "text/html": [
       "<div>\n",
       "<style scoped>\n",
       "    .dataframe tbody tr th:only-of-type {\n",
       "        vertical-align: middle;\n",
       "    }\n",
       "\n",
       "    .dataframe tbody tr th {\n",
       "        vertical-align: top;\n",
       "    }\n",
       "\n",
       "    .dataframe thead th {\n",
       "        text-align: right;\n",
       "    }\n",
       "</style>\n",
       "<table border=\"1\" class=\"dataframe\">\n",
       "  <thead>\n",
       "    <tr style=\"text-align: right;\">\n",
       "      <th></th>\n",
       "      <th>call_date</th>\n",
       "      <th>battalion</th>\n",
       "      <th>received_dttm</th>\n",
       "      <th>on_scene_dttm</th>\n",
       "    </tr>\n",
       "  </thead>\n",
       "  <tbody>\n",
       "    <tr>\n",
       "      <th>1</th>\n",
       "      <td>2020-03-13T00:00:00.000</td>\n",
       "      <td>B07</td>\n",
       "      <td>2020-03-13T16:20:26.000</td>\n",
       "      <td>2020-03-13T16:28:25.000</td>\n",
       "    </tr>\n",
       "    <tr>\n",
       "      <th>2</th>\n",
       "      <td>2020-03-13T00:00:00.000</td>\n",
       "      <td>B09</td>\n",
       "      <td>2020-03-13T00:32:53.000</td>\n",
       "      <td>2020-03-13T00:37:43.000</td>\n",
       "    </tr>\n",
       "    <tr>\n",
       "      <th>3</th>\n",
       "      <td>2020-03-13T00:00:00.000</td>\n",
       "      <td>B05</td>\n",
       "      <td>2020-03-13T17:00:20.000</td>\n",
       "      <td>2020-03-13T17:11:39.000</td>\n",
       "    </tr>\n",
       "    <tr>\n",
       "      <th>5</th>\n",
       "      <td>2020-03-13T00:00:00.000</td>\n",
       "      <td>B03</td>\n",
       "      <td>2020-03-13T15:12:14.000</td>\n",
       "      <td>2020-03-13T15:18:02.000</td>\n",
       "    </tr>\n",
       "    <tr>\n",
       "      <th>6</th>\n",
       "      <td>2020-03-13T00:00:00.000</td>\n",
       "      <td>B03</td>\n",
       "      <td>2020-03-13T16:00:34.000</td>\n",
       "      <td>2020-03-13T16:16:48.000</td>\n",
       "    </tr>\n",
       "  </tbody>\n",
       "</table>\n",
       "</div>"
      ],
      "text/plain": [
       "                 call_date battalion            received_dttm  \\\n",
       "1  2020-03-13T00:00:00.000       B07  2020-03-13T16:20:26.000   \n",
       "2  2020-03-13T00:00:00.000       B09  2020-03-13T00:32:53.000   \n",
       "3  2020-03-13T00:00:00.000       B05  2020-03-13T17:00:20.000   \n",
       "5  2020-03-13T00:00:00.000       B03  2020-03-13T15:12:14.000   \n",
       "6  2020-03-13T00:00:00.000       B03  2020-03-13T16:00:34.000   \n",
       "\n",
       "             on_scene_dttm  \n",
       "1  2020-03-13T16:28:25.000  \n",
       "2  2020-03-13T00:37:43.000  \n",
       "3  2020-03-13T17:11:39.000  \n",
       "5  2020-03-13T15:18:02.000  \n",
       "6  2020-03-13T16:16:48.000  "
      ]
     },
     "execution_count": 4,
     "metadata": {},
     "output_type": "execute_result"
    }
   ],
   "source": [
    "#  drop rows with missing data\n",
    "refined_df = results_df.dropna(how='any')\n",
    "refined_df.head()"
   ]
  },
  {
   "cell_type": "code",
   "execution_count": 5,
   "metadata": {},
   "outputs": [
    {
     "name": "stderr",
     "output_type": "stream",
     "text": [
      "C:\\Users\\Travis Young\\anaconda3\\envs\\PythonData\\lib\\site-packages\\ipykernel_launcher.py:2: SettingWithCopyWarning: \n",
      "A value is trying to be set on a copy of a slice from a DataFrame.\n",
      "Try using .loc[row_indexer,col_indexer] = value instead\n",
      "\n",
      "See the caveats in the documentation: https://pandas.pydata.org/pandas-docs/stable/user_guide/indexing.html#returning-a-view-versus-a-copy\n",
      "  \n",
      "C:\\Users\\Travis Young\\anaconda3\\envs\\PythonData\\lib\\site-packages\\ipykernel_launcher.py:3: SettingWithCopyWarning: \n",
      "A value is trying to be set on a copy of a slice from a DataFrame.\n",
      "Try using .loc[row_indexer,col_indexer] = value instead\n",
      "\n",
      "See the caveats in the documentation: https://pandas.pydata.org/pandas-docs/stable/user_guide/indexing.html#returning-a-view-versus-a-copy\n",
      "  This is separate from the ipykernel package so we can avoid doing imports until\n",
      "C:\\Users\\Travis Young\\anaconda3\\envs\\PythonData\\lib\\site-packages\\ipykernel_launcher.py:4: SettingWithCopyWarning: \n",
      "A value is trying to be set on a copy of a slice from a DataFrame.\n",
      "Try using .loc[row_indexer,col_indexer] = value instead\n",
      "\n",
      "See the caveats in the documentation: https://pandas.pydata.org/pandas-docs/stable/user_guide/indexing.html#returning-a-view-versus-a-copy\n",
      "  after removing the cwd from sys.path.\n"
     ]
    },
    {
     "data": {
      "text/html": [
       "<div>\n",
       "<style scoped>\n",
       "    .dataframe tbody tr th:only-of-type {\n",
       "        vertical-align: middle;\n",
       "    }\n",
       "\n",
       "    .dataframe tbody tr th {\n",
       "        vertical-align: top;\n",
       "    }\n",
       "\n",
       "    .dataframe thead th {\n",
       "        text-align: right;\n",
       "    }\n",
       "</style>\n",
       "<table border=\"1\" class=\"dataframe\">\n",
       "  <thead>\n",
       "    <tr style=\"text-align: right;\">\n",
       "      <th></th>\n",
       "      <th>call_date</th>\n",
       "      <th>battalion</th>\n",
       "      <th>received_dttm</th>\n",
       "      <th>on_scene_dttm</th>\n",
       "    </tr>\n",
       "  </thead>\n",
       "  <tbody>\n",
       "    <tr>\n",
       "      <th>1</th>\n",
       "      <td>2020-03-13</td>\n",
       "      <td>B07</td>\n",
       "      <td>2020-03-13 16:20:26</td>\n",
       "      <td>2020-03-13 16:28:25</td>\n",
       "    </tr>\n",
       "    <tr>\n",
       "      <th>2</th>\n",
       "      <td>2020-03-13</td>\n",
       "      <td>B09</td>\n",
       "      <td>2020-03-13 00:32:53</td>\n",
       "      <td>2020-03-13 00:37:43</td>\n",
       "    </tr>\n",
       "    <tr>\n",
       "      <th>3</th>\n",
       "      <td>2020-03-13</td>\n",
       "      <td>B05</td>\n",
       "      <td>2020-03-13 17:00:20</td>\n",
       "      <td>2020-03-13 17:11:39</td>\n",
       "    </tr>\n",
       "    <tr>\n",
       "      <th>5</th>\n",
       "      <td>2020-03-13</td>\n",
       "      <td>B03</td>\n",
       "      <td>2020-03-13 15:12:14</td>\n",
       "      <td>2020-03-13 15:18:02</td>\n",
       "    </tr>\n",
       "    <tr>\n",
       "      <th>6</th>\n",
       "      <td>2020-03-13</td>\n",
       "      <td>B03</td>\n",
       "      <td>2020-03-13 16:00:34</td>\n",
       "      <td>2020-03-13 16:16:48</td>\n",
       "    </tr>\n",
       "  </tbody>\n",
       "</table>\n",
       "</div>"
      ],
      "text/plain": [
       "   call_date battalion       received_dttm       on_scene_dttm\n",
       "1 2020-03-13       B07 2020-03-13 16:20:26 2020-03-13 16:28:25\n",
       "2 2020-03-13       B09 2020-03-13 00:32:53 2020-03-13 00:37:43\n",
       "3 2020-03-13       B05 2020-03-13 17:00:20 2020-03-13 17:11:39\n",
       "5 2020-03-13       B03 2020-03-13 15:12:14 2020-03-13 15:18:02\n",
       "6 2020-03-13       B03 2020-03-13 16:00:34 2020-03-13 16:16:48"
      ]
     },
     "execution_count": 5,
     "metadata": {},
     "output_type": "execute_result"
    }
   ],
   "source": [
    "# Convert datatype to datetime format for call_date, received_dttm, and on_scene_dttm columns\n",
    "refined_df['call_date'] = pd.to_datetime(refined_df['call_date'])\n",
    "refined_df['received_dttm'] = pd.to_datetime(refined_df['received_dttm'])\n",
    "refined_df['on_scene_dttm'] = pd.to_datetime(refined_df['on_scene_dttm'])\n",
    "refined_df.head()"
   ]
  },
  {
   "cell_type": "code",
   "execution_count": 6,
   "metadata": {},
   "outputs": [
    {
     "name": "stderr",
     "output_type": "stream",
     "text": [
      "C:\\Users\\Travis Young\\anaconda3\\envs\\PythonData\\lib\\site-packages\\ipykernel_launcher.py:4: SettingWithCopyWarning: \n",
      "A value is trying to be set on a copy of a slice from a DataFrame.\n",
      "Try using .loc[row_indexer,col_indexer] = value instead\n",
      "\n",
      "See the caveats in the documentation: https://pandas.pydata.org/pandas-docs/stable/user_guide/indexing.html#returning-a-view-versus-a-copy\n",
      "  after removing the cwd from sys.path.\n",
      "C:\\Users\\Travis Young\\anaconda3\\envs\\PythonData\\lib\\site-packages\\ipykernel_launcher.py:5: SettingWithCopyWarning: \n",
      "A value is trying to be set on a copy of a slice from a DataFrame.\n",
      "Try using .loc[row_indexer,col_indexer] = value instead\n",
      "\n",
      "See the caveats in the documentation: https://pandas.pydata.org/pandas-docs/stable/user_guide/indexing.html#returning-a-view-versus-a-copy\n",
      "  \"\"\"\n"
     ]
    },
    {
     "data": {
      "text/html": [
       "<div>\n",
       "<style scoped>\n",
       "    .dataframe tbody tr th:only-of-type {\n",
       "        vertical-align: middle;\n",
       "    }\n",
       "\n",
       "    .dataframe tbody tr th {\n",
       "        vertical-align: top;\n",
       "    }\n",
       "\n",
       "    .dataframe thead th {\n",
       "        text-align: right;\n",
       "    }\n",
       "</style>\n",
       "<table border=\"1\" class=\"dataframe\">\n",
       "  <thead>\n",
       "    <tr style=\"text-align: right;\">\n",
       "      <th></th>\n",
       "      <th>call_date</th>\n",
       "      <th>battalion</th>\n",
       "      <th>received_dttm</th>\n",
       "      <th>on_scene_dttm</th>\n",
       "      <th>month</th>\n",
       "      <th>response_time</th>\n",
       "    </tr>\n",
       "  </thead>\n",
       "  <tbody>\n",
       "    <tr>\n",
       "      <th>1</th>\n",
       "      <td>2020-03-13</td>\n",
       "      <td>B07</td>\n",
       "      <td>2020-03-13 16:20:26</td>\n",
       "      <td>2020-03-13 16:28:25</td>\n",
       "      <td>3</td>\n",
       "      <td>00:07:59</td>\n",
       "    </tr>\n",
       "    <tr>\n",
       "      <th>2</th>\n",
       "      <td>2020-03-13</td>\n",
       "      <td>B09</td>\n",
       "      <td>2020-03-13 00:32:53</td>\n",
       "      <td>2020-03-13 00:37:43</td>\n",
       "      <td>3</td>\n",
       "      <td>00:04:50</td>\n",
       "    </tr>\n",
       "    <tr>\n",
       "      <th>3</th>\n",
       "      <td>2020-03-13</td>\n",
       "      <td>B05</td>\n",
       "      <td>2020-03-13 17:00:20</td>\n",
       "      <td>2020-03-13 17:11:39</td>\n",
       "      <td>3</td>\n",
       "      <td>00:11:19</td>\n",
       "    </tr>\n",
       "    <tr>\n",
       "      <th>5</th>\n",
       "      <td>2020-03-13</td>\n",
       "      <td>B03</td>\n",
       "      <td>2020-03-13 15:12:14</td>\n",
       "      <td>2020-03-13 15:18:02</td>\n",
       "      <td>3</td>\n",
       "      <td>00:05:48</td>\n",
       "    </tr>\n",
       "    <tr>\n",
       "      <th>6</th>\n",
       "      <td>2020-03-13</td>\n",
       "      <td>B03</td>\n",
       "      <td>2020-03-13 16:00:34</td>\n",
       "      <td>2020-03-13 16:16:48</td>\n",
       "      <td>3</td>\n",
       "      <td>00:16:14</td>\n",
       "    </tr>\n",
       "  </tbody>\n",
       "</table>\n",
       "</div>"
      ],
      "text/plain": [
       "   call_date battalion       received_dttm       on_scene_dttm  month  \\\n",
       "1 2020-03-13       B07 2020-03-13 16:20:26 2020-03-13 16:28:25      3   \n",
       "2 2020-03-13       B09 2020-03-13 00:32:53 2020-03-13 00:37:43      3   \n",
       "3 2020-03-13       B05 2020-03-13 17:00:20 2020-03-13 17:11:39      3   \n",
       "5 2020-03-13       B03 2020-03-13 15:12:14 2020-03-13 15:18:02      3   \n",
       "6 2020-03-13       B03 2020-03-13 16:00:34 2020-03-13 16:16:48      3   \n",
       "\n",
       "  response_time  \n",
       "1      00:07:59  \n",
       "2      00:04:50  \n",
       "3      00:11:19  \n",
       "5      00:05:48  \n",
       "6      00:16:14  "
      ]
     },
     "execution_count": 6,
     "metadata": {},
     "output_type": "execute_result"
    }
   ],
   "source": [
    "# establish the month and response time data series\n",
    "# air_quality[\"ratio_paris_antwerp\"] = (\n",
    "#    ...:     air_quality[\"station_paris\"] / air_quality[\"station_antwerp\"]\n",
    "refined_df['month'] = refined_df['call_date'].dt.month\n",
    "refined_df['response_time'] = refined_df['on_scene_dttm'] - refined_df['received_dttm']\n",
    "refined_df.head()"
   ]
  },
  {
   "cell_type": "code",
   "execution_count": 7,
   "metadata": {},
   "outputs": [
    {
     "data": {
      "text/html": [
       "<div>\n",
       "<style scoped>\n",
       "    .dataframe tbody tr th:only-of-type {\n",
       "        vertical-align: middle;\n",
       "    }\n",
       "\n",
       "    .dataframe tbody tr th {\n",
       "        vertical-align: top;\n",
       "    }\n",
       "\n",
       "    .dataframe thead th {\n",
       "        text-align: right;\n",
       "    }\n",
       "</style>\n",
       "<table border=\"1\" class=\"dataframe\">\n",
       "  <thead>\n",
       "    <tr style=\"text-align: right;\">\n",
       "      <th></th>\n",
       "      <th>month</th>\n",
       "      <th>response_time</th>\n",
       "    </tr>\n",
       "  </thead>\n",
       "  <tbody>\n",
       "    <tr>\n",
       "      <th>count</th>\n",
       "      <td>225473.000000</td>\n",
       "      <td>225473</td>\n",
       "    </tr>\n",
       "    <tr>\n",
       "      <th>mean</th>\n",
       "      <td>6.509595</td>\n",
       "      <td>0 days 00:10:15.882008</td>\n",
       "    </tr>\n",
       "    <tr>\n",
       "      <th>std</th>\n",
       "      <td>3.469482</td>\n",
       "      <td>0 days 00:22:17.195126</td>\n",
       "    </tr>\n",
       "    <tr>\n",
       "      <th>min</th>\n",
       "      <td>1.000000</td>\n",
       "      <td>-1 days +08:02:52</td>\n",
       "    </tr>\n",
       "    <tr>\n",
       "      <th>25%</th>\n",
       "      <td>3.000000</td>\n",
       "      <td>0 days 00:05:30</td>\n",
       "    </tr>\n",
       "    <tr>\n",
       "      <th>50%</th>\n",
       "      <td>7.000000</td>\n",
       "      <td>0 days 00:07:26</td>\n",
       "    </tr>\n",
       "    <tr>\n",
       "      <th>75%</th>\n",
       "      <td>10.000000</td>\n",
       "      <td>0 days 00:11:19</td>\n",
       "    </tr>\n",
       "    <tr>\n",
       "      <th>max</th>\n",
       "      <td>12.000000</td>\n",
       "      <td>1 days 18:41:53</td>\n",
       "    </tr>\n",
       "  </tbody>\n",
       "</table>\n",
       "</div>"
      ],
      "text/plain": [
       "               month           response_time\n",
       "count  225473.000000                  225473\n",
       "mean        6.509595  0 days 00:10:15.882008\n",
       "std         3.469482  0 days 00:22:17.195126\n",
       "min         1.000000       -1 days +08:02:52\n",
       "25%         3.000000         0 days 00:05:30\n",
       "50%         7.000000         0 days 00:07:26\n",
       "75%        10.000000         0 days 00:11:19\n",
       "max        12.000000         1 days 18:41:53"
      ]
     },
     "execution_count": 7,
     "metadata": {},
     "output_type": "execute_result"
    }
   ],
   "source": [
    "refined_df.describe()"
   ]
  },
  {
   "cell_type": "code",
   "execution_count": 8,
   "metadata": {
    "scrolled": true
   },
   "outputs": [
    {
     "data": {
      "image/png": "[encoded data removed]",
      "text/plain": [
       "<Figure size 432x288 with 1 Axes>"
      ]
     },
     "metadata": {
      "needs_background": "light"
     },
     "output_type": "display_data"
    }
   ],
   "source": [
    "# plot hisotgram to confirm data looks representative of past 12 months\n",
    "ax = refined_df['month'].plot.hist(bins=12, alpha=0.5)"
   ]
  },
  {
   "cell_type": "code",
   "execution_count": null,
   "metadata": {},
   "outputs": [],
   "source": [
    "# reduce data to response times of at least 1 second up to +3 std dev from mean"
   ]
  },
  {
   "cell_type": "code",
   "execution_count": null,
   "metadata": {},
   "outputs": [],
   "source": []
  },
  {
   "cell_type": "code",
   "execution_count": null,
   "metadata": {},
   "outputs": [],
   "source": []
  },
  {
   "cell_type": "code",
   "execution_count": null,
   "metadata": {},
   "outputs": [],
   "source": []
  },
  {
   "cell_type": "code",
   "execution_count": null,
   "metadata": {},
   "outputs": [],
   "source": []
  },
  {
   "cell_type": "code",
   "execution_count": null,
   "metadata": {},
   "outputs": [],
   "source": [
    "# try plotting by call date\n",
    "ax = refined_df['call_date'].plot.hist(bins=12, alpha=0.5)"
   ]
  },
  {
   "cell_type": "code",
   "execution_count": null,
   "metadata": {},
   "outputs": [],
   "source": [
    "# reduce dataset to last 12 months\n",
    "recent_df = refined_df.set_index('call_date').last('12M')\n",
    "recent_df.head()"
   ]
  },
  {
   "cell_type": "code",
   "execution_count": null,
   "metadata": {},
   "outputs": [],
   "source": [
    "# take a quick look for outliers in the data\n",
    "recent_df.describe()"
   ]
  },
  {
   "cell_type": "code",
   "execution_count": null,
   "metadata": {
    "scrolled": true
   },
   "outputs": [],
   "source": [
    "ax = recent_df['month'].plot.hist(bins=12, alpha=0.5)"
   ]
  },
  {
   "cell_type": "code",
   "execution_count": null,
   "metadata": {},
   "outputs": [],
   "source": [
    "recent_df['response_time'].plot()"
   ]
  },
  {
   "cell_type": "code",
   "execution_count": null,
   "metadata": {
    "scrolled": true
   },
   "outputs": [],
   "source": [
    "sorted_df = recent_df.sort_values(by=['response_time'], ascending=True)\n",
    "sorted_df.tail(15)"
   ]
  },
  {
   "cell_type": "code",
   "execution_count": null,
   "metadata": {},
   "outputs": [],
   "source": [
    "sorted_df.head(30)"
   ]
  },
  {
   "cell_type": "code",
   "execution_count": null,
   "metadata": {},
   "outputs": [],
   "source": [
    "# eliminate response time of less than 1 second\n",
    "response_df = sorted_df[sorted_df['response_time'] >= pd.Timedelta(1, 's')]\n",
    "response_df = response_df[response_df['response_time'] <= pd.Timedelta(1, 'd')]\n",
    "response_df = response_df[response_df['response_time'] <= pd.Timedelta(7200, 's')]\n",
    "response_df.head()"
   ]
  },
  {
   "cell_type": "code",
   "execution_count": null,
   "metadata": {},
   "outputs": [],
   "source": [
    "response_df.describe()"
   ]
  },
  {
   "cell_type": "code",
   "execution_count": null,
   "metadata": {},
   "outputs": [],
   "source": []
  },
  {
   "cell_type": "code",
   "execution_count": null,
   "metadata": {},
   "outputs": [],
   "source": [
    "response_df.dtypes"
   ]
  },
  {
   "cell_type": "code",
   "execution_count": null,
   "metadata": {},
   "outputs": [],
   "source": [
    "sorted_df['duration'] = sorted_df['response_time'].dt.total_seconds() // 60"
   ]
  },
  {
   "cell_type": "code",
   "execution_count": null,
   "metadata": {},
   "outputs": [],
   "source": [
    "sorted_df.head()"
   ]
  },
  {
   "cell_type": "code",
   "execution_count": null,
   "metadata": {},
   "outputs": [],
   "source": [
    "sorted_df['duration'].plot.hist(bins=10, alpha=0.5)"
   ]
  },
  {
   "cell_type": "code",
   "execution_count": null,
   "metadata": {},
   "outputs": [],
   "source": [
    "sorted_df.describe()"
   ]
  },
  {
   "cell_type": "code",
   "execution_count": null,
   "metadata": {},
   "outputs": [],
   "source": [
    "sorted_df['response_time'].plot()"
   ]
  },
  {
   "cell_type": "code",
   "execution_count": null,
   "metadata": {},
   "outputs": [],
   "source": []
  },
  {
   "cell_type": "code",
   "execution_count": null,
   "metadata": {},
   "outputs": [],
   "source": []
  },
  {
   "cell_type": "code",
   "execution_count": null,
   "metadata": {},
   "outputs": [],
   "source": []
  },
  {
   "cell_type": "code",
   "execution_count": null,
   "metadata": {},
   "outputs": [],
   "source": [
    "# Gb = df.groupby([“Col1”, “Col2”])\n",
    "gb = response_df.groupby(['month', 'battalion'])\n",
    "# grouped = df.groupby([\"A\", \"B\"])\n",
    "\n",
    "gb.groups"
   ]
  },
  {
   "cell_type": "code",
   "execution_count": null,
   "metadata": {},
   "outputs": [],
   "source": [
    "# my_df[['field_A','field_B']].dropna().quantile([0.0, .5, .90, .95])"
   ]
  },
  {
   "cell_type": "code",
   "execution_count": null,
   "metadata": {},
   "outputs": [],
   "source": [
    "\n",
    "# Example authenticated client (needed for non-public datasets):\n",
    "# client = Socrata(data.sfgov.org,\n",
    "#                  MyAppToken,\n",
    "#                  userame=\"user@example.com\",\n",
    "#                  password=\"AFakePassword\")\n",
    "\n",
    "# First 2000 results, returned as JSON from API / converted to Python list of\n",
    "# dictionaries by sodapy.\n",
    "# results = client.get(\"nuek-vuh3\", limit=2000)\n",
    "# results = client.get(\"nuek-vuh3\", where=\"call_date > '2020-03-10T00:00:00.000'\")\n",
    "# results = client.get_all(\"nuek-vuh3\", where=\"call_date > '2020-03-10T00:00:00.000'\")\n",
    "\n"
   ]
  },
  {
   "cell_type": "code",
   "execution_count": null,
   "metadata": {},
   "outputs": [],
   "source": [
    "# Choose data series for analysis\n",
    "refined_df = results_df[['call_date', 'battalion', 'received_dttm', 'on_scene_dttm']]\n",
    "refined_df.head()"
   ]
  }
 ],
 "metadata": {
  "kernelspec": {
   "display_name": "Python [conda env:PythonData] *",
   "language": "python",
   "name": "conda-env-PythonData-py"
  },
  "language_info": {
   "codemirror_mode": {
    "name": "ipython",
    "version": 3
   },
   "file_extension": ".py",
   "mimetype": "text/x-python",
   "name": "python",
   "nbconvert_exporter": "python",
   "pygments_lexer": "ipython3",
   "version": "3.6.10"
  }
 },
 "nbformat": 4,
 "nbformat_minor": 4
}
